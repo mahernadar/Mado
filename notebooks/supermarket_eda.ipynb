{
 "cells": [
  {
   "cell_type": "code",
   "execution_count": 361,
   "metadata": {},
   "outputs": [],
   "source": [
    "import plotly.graph_objects as go\n",
    "from plotly.subplots import make_subplots\n",
    "\n",
    "from rich import inspect\n",
    "from tqdm.notebook import tqdm\n",
    "\n",
    "import datetime\n",
    "import numpy as np\n",
    "import pandas as pd\n",
    "import json\n",
    "\n",
    "pd.set_option(\"display.max_columns\", None)\n",
    "pd.set_option(\"display.max_rows\", None)\n"
   ]
  },
  {
   "attachments": {},
   "cell_type": "markdown",
   "metadata": {},
   "source": [
    "## Load Data:\n"
   ]
  },
  {
   "cell_type": "code",
   "execution_count": 362,
   "metadata": {},
   "outputs": [
    {
     "data": {
      "text/html": [
       "<div>\n",
       "<style scoped>\n",
       "    .dataframe tbody tr th:only-of-type {\n",
       "        vertical-align: middle;\n",
       "    }\n",
       "\n",
       "    .dataframe tbody tr th {\n",
       "        vertical-align: top;\n",
       "    }\n",
       "\n",
       "    .dataframe thead th {\n",
       "        text-align: right;\n",
       "    }\n",
       "</style>\n",
       "<table border=\"1\" class=\"dataframe\">\n",
       "  <thead>\n",
       "    <tr style=\"text-align: right;\">\n",
       "      <th></th>\n",
       "      <th>customer_no</th>\n",
       "      <th>location</th>\n",
       "      <th>dow</th>\n",
       "      <th>time</th>\n",
       "    </tr>\n",
       "    <tr>\n",
       "      <th>timestamp</th>\n",
       "      <th></th>\n",
       "      <th></th>\n",
       "      <th></th>\n",
       "      <th></th>\n",
       "    </tr>\n",
       "  </thead>\n",
       "  <tbody>\n",
       "    <tr>\n",
       "      <th>2019-09-04 17:48:00</th>\n",
       "      <td>1086_wednesday</td>\n",
       "      <td>checkout</td>\n",
       "      <td>wednesday</td>\n",
       "      <td>17:48:00</td>\n",
       "    </tr>\n",
       "    <tr>\n",
       "      <th>2019-09-04 17:06:00</th>\n",
       "      <td>1018_wednesday</td>\n",
       "      <td>checkout</td>\n",
       "      <td>wednesday</td>\n",
       "      <td>17:06:00</td>\n",
       "    </tr>\n",
       "    <tr>\n",
       "      <th>2019-09-04 10:34:00</th>\n",
       "      <td>431_wednesday</td>\n",
       "      <td>spices</td>\n",
       "      <td>wednesday</td>\n",
       "      <td>10:34:00</td>\n",
       "    </tr>\n",
       "    <tr>\n",
       "      <th>2019-09-04 18:18:00</th>\n",
       "      <td>1103_wednesday</td>\n",
       "      <td>checkout</td>\n",
       "      <td>wednesday</td>\n",
       "      <td>18:18:00</td>\n",
       "    </tr>\n",
       "    <tr>\n",
       "      <th>2019-09-03 07:31:00</th>\n",
       "      <td>53_tuesday</td>\n",
       "      <td>fruit</td>\n",
       "      <td>tuesday</td>\n",
       "      <td>07:31:00</td>\n",
       "    </tr>\n",
       "  </tbody>\n",
       "</table>\n",
       "</div>"
      ],
      "text/plain": [
       "                        customer_no  location        dow      time\n",
       "timestamp                                                         \n",
       "2019-09-04 17:48:00  1086_wednesday  checkout  wednesday  17:48:00\n",
       "2019-09-04 17:06:00  1018_wednesday  checkout  wednesday  17:06:00\n",
       "2019-09-04 10:34:00   431_wednesday    spices  wednesday  10:34:00\n",
       "2019-09-04 18:18:00  1103_wednesday  checkout  wednesday  18:18:00\n",
       "2019-09-03 07:31:00      53_tuesday     fruit    tuesday  07:31:00"
      ]
     },
     "execution_count": 362,
     "metadata": {},
     "output_type": "execute_result"
    }
   ],
   "source": [
    "days_of_week = [\"monday\", \"tuesday\", \"wednesday\", \"thursday\", \"friday\"]\n",
    "\n",
    "dfs = []\n",
    "\n",
    "for day in days_of_week:\n",
    "    df = pd.read_csv(\n",
    "        f\"../data/{day}.csv\",\n",
    "        parse_dates=[\"timestamp\"],\n",
    "        delimiter=\";\",\n",
    "    )\n",
    "    df[\"dow\"] = day\n",
    "    df[\"time\"] = df.timestamp.dt.time\n",
    "    df[\"customer_no\"] = df[\"customer_no\"].astype(str) + \"_\" + df[\"dow\"]\n",
    "    dfs.append(df)\n",
    "\n",
    "df_all_days = pd.concat(dfs, ignore_index=True)\n",
    "\n",
    "df_all_days = df_all_days.set_index(\"timestamp\")\n",
    "\n",
    "df_all_days.sample(5)\n"
   ]
  },
  {
   "cell_type": "code",
   "execution_count": 363,
   "metadata": {},
   "outputs": [
    {
     "data": {
      "text/plain": [
       "(datetime.time(7, 0), datetime.time(21, 50))"
      ]
     },
     "execution_count": 363,
     "metadata": {},
     "output_type": "execute_result"
    }
   ],
   "source": [
    "df_all_days.time.min(), df_all_days.time.max()\n"
   ]
  },
  {
   "attachments": {},
   "cell_type": "markdown",
   "metadata": {},
   "source": [
    "## Adding the period of day column, for analyzing data in an aggregate manner:\n",
    "\n",
    "- morning: up to 12 pm\n",
    "- afternoon: 12 to 4 pm\n",
    "- evening: after 4 pm\n"
   ]
  },
  {
   "cell_type": "code",
   "execution_count": 364,
   "metadata": {},
   "outputs": [],
   "source": [
    "def get_day_period(time):\n",
    "    period = None\n",
    "    if 7 <= time.hour < 12:\n",
    "        period = \"morning\"\n",
    "    elif 12 <= time.hour < 16:\n",
    "        period = \"afternoon\"\n",
    "    elif 16 <= time.hour:\n",
    "        period = \"evening\"\n",
    "    return period\n"
   ]
  },
  {
   "cell_type": "code",
   "execution_count": 365,
   "metadata": {},
   "outputs": [],
   "source": [
    "df_all_days[\"day_period\"] = df_all_days.time.apply(get_day_period)\n"
   ]
  },
  {
   "attachments": {},
   "cell_type": "markdown",
   "metadata": {},
   "source": [
    "## Resampling the Df to have a sample every minute:\n",
    "\n",
    "Method used to fill unrecorded timestamps is \"forward fill\"\n"
   ]
  },
  {
   "cell_type": "code",
   "execution_count": 366,
   "metadata": {},
   "outputs": [
    {
     "data": {
      "text/html": [
       "<div>\n",
       "<style scoped>\n",
       "    .dataframe tbody tr th:only-of-type {\n",
       "        vertical-align: middle;\n",
       "    }\n",
       "\n",
       "    .dataframe tbody tr th {\n",
       "        vertical-align: top;\n",
       "    }\n",
       "\n",
       "    .dataframe thead th {\n",
       "        text-align: right;\n",
       "    }\n",
       "</style>\n",
       "<table border=\"1\" class=\"dataframe\">\n",
       "  <thead>\n",
       "    <tr style=\"text-align: right;\">\n",
       "      <th></th>\n",
       "      <th>customer_no</th>\n",
       "      <th>timestamp</th>\n",
       "      <th>location</th>\n",
       "      <th>dow</th>\n",
       "      <th>time</th>\n",
       "      <th>day_period</th>\n",
       "    </tr>\n",
       "  </thead>\n",
       "  <tbody>\n",
       "    <tr>\n",
       "      <th>19093</th>\n",
       "      <td>149_wednesday</td>\n",
       "      <td>2019-09-04 08:25:00</td>\n",
       "      <td>checkout</td>\n",
       "      <td>wednesday</td>\n",
       "      <td>08:25:00</td>\n",
       "      <td>morning</td>\n",
       "    </tr>\n",
       "    <tr>\n",
       "      <th>18379</th>\n",
       "      <td>146_tuesday</td>\n",
       "      <td>2019-09-03 08:19:00</td>\n",
       "      <td>drinks</td>\n",
       "      <td>tuesday</td>\n",
       "      <td>08:19:00</td>\n",
       "      <td>morning</td>\n",
       "    </tr>\n",
       "    <tr>\n",
       "      <th>44761</th>\n",
       "      <td>770_monday</td>\n",
       "      <td>2019-09-02 15:24:00</td>\n",
       "      <td>dairy</td>\n",
       "      <td>monday</td>\n",
       "      <td>15:23:00</td>\n",
       "      <td>afternoon</td>\n",
       "    </tr>\n",
       "    <tr>\n",
       "      <th>45851</th>\n",
       "      <td>798_monday</td>\n",
       "      <td>2019-09-02 15:42:00</td>\n",
       "      <td>dairy</td>\n",
       "      <td>monday</td>\n",
       "      <td>15:40:00</td>\n",
       "      <td>afternoon</td>\n",
       "    </tr>\n",
       "    <tr>\n",
       "      <th>21387</th>\n",
       "      <td>195_wednesday</td>\n",
       "      <td>2019-09-04 08:49:00</td>\n",
       "      <td>fruit</td>\n",
       "      <td>wednesday</td>\n",
       "      <td>08:47:00</td>\n",
       "      <td>morning</td>\n",
       "    </tr>\n",
       "  </tbody>\n",
       "</table>\n",
       "</div>"
      ],
      "text/plain": [
       "         customer_no           timestamp  location        dow      time   \n",
       "19093  149_wednesday 2019-09-04 08:25:00  checkout  wednesday  08:25:00  \\\n",
       "18379    146_tuesday 2019-09-03 08:19:00    drinks    tuesday  08:19:00   \n",
       "44761     770_monday 2019-09-02 15:24:00     dairy     monday  15:23:00   \n",
       "45851     798_monday 2019-09-02 15:42:00     dairy     monday  15:40:00   \n",
       "21387  195_wednesday 2019-09-04 08:49:00     fruit  wednesday  08:47:00   \n",
       "\n",
       "      day_period  \n",
       "19093    morning  \n",
       "18379    morning  \n",
       "44761  afternoon  \n",
       "45851  afternoon  \n",
       "21387    morning  "
      ]
     },
     "execution_count": 366,
     "metadata": {},
     "output_type": "execute_result"
    }
   ],
   "source": [
    "df_all_days = (\n",
    "    df_all_days.groupby(\"customer_no\")\n",
    "    .resample(\"1Min\")\n",
    "    .ffill()\n",
    "    .drop(columns=\"customer_no\")\n",
    "    .reset_index()\n",
    "    .sort_values(by=[\"customer_no\", \"timestamp\"])\n",
    ")\n",
    "df_all_days.sample(5)\n"
   ]
  },
  {
   "attachments": {},
   "cell_type": "markdown",
   "metadata": {},
   "source": [
    "## Adding a \"checkout\" entry of some customers whose end registered location was not checkout:\n"
   ]
  },
  {
   "cell_type": "code",
   "execution_count": 367,
   "metadata": {},
   "outputs": [],
   "source": [
    "missing_checkout_entries = (\n",
    "    []\n",
    ")  # -- to be filled with the dicts of missing entries:\n",
    "for entries, grp_data in df_all_days.groupby(\"customer_no\"):\n",
    "\n",
    "    if \"checkout\" not in grp_data.location.unique():\n",
    "        # extract last row as a dict:\n",
    "        checkout_entries = grp_data.iloc[-1].to_dict()\n",
    "\n",
    "        # the checkout timestamp is the last timestamp + 1 minute:\n",
    "        checkout_timestamp = grp_data.iloc[-1].timestamp + datetime.timedelta(\n",
    "            minutes=1\n",
    "        )\n",
    "        checkout_entries[\"timestamp\"] = checkout_timestamp\n",
    "\n",
    "        # update the location accordingly:\n",
    "        checkout_entries[\"location\"] = \"checkout\"\n",
    "        missing_checkout_entries.append(checkout_entries)\n"
   ]
  },
  {
   "cell_type": "code",
   "execution_count": 368,
   "metadata": {},
   "outputs": [],
   "source": [
    "# convert entries into df --> add it to the initial df --> re-sort the values per customer, per timestamp:\n",
    "missing_entries_df = pd.DataFrame(missing_checkout_entries)\n",
    "\n",
    "df_all_days = pd.concat([df_all_days, missing_entries_df], axis=0)\n",
    "\n",
    "df_all_days = df_all_days.sort_values(by=[\"customer_no\", \"timestamp\"])\n"
   ]
  },
  {
   "attachments": {},
   "cell_type": "markdown",
   "metadata": {},
   "source": [
    "## Adding a column for the previous timestamp's location:\n"
   ]
  },
  {
   "cell_type": "code",
   "execution_count": 369,
   "metadata": {},
   "outputs": [
    {
     "data": {
      "text/html": [
       "<div>\n",
       "<style scoped>\n",
       "    .dataframe tbody tr th:only-of-type {\n",
       "        vertical-align: middle;\n",
       "    }\n",
       "\n",
       "    .dataframe tbody tr th {\n",
       "        vertical-align: top;\n",
       "    }\n",
       "\n",
       "    .dataframe thead th {\n",
       "        text-align: right;\n",
       "    }\n",
       "</style>\n",
       "<table border=\"1\" class=\"dataframe\">\n",
       "  <thead>\n",
       "    <tr style=\"text-align: right;\">\n",
       "      <th></th>\n",
       "      <th>customer_no</th>\n",
       "      <th>timestamp</th>\n",
       "      <th>location</th>\n",
       "      <th>dow</th>\n",
       "      <th>time</th>\n",
       "      <th>day_period</th>\n",
       "      <th>from_location</th>\n",
       "    </tr>\n",
       "  </thead>\n",
       "  <tbody>\n",
       "    <tr>\n",
       "      <th>0</th>\n",
       "      <td>1000_friday</td>\n",
       "      <td>2019-09-06 17:19:00</td>\n",
       "      <td>fruit</td>\n",
       "      <td>friday</td>\n",
       "      <td>17:19:00</td>\n",
       "      <td>evening</td>\n",
       "      <td>checkout</td>\n",
       "    </tr>\n",
       "    <tr>\n",
       "      <th>1</th>\n",
       "      <td>1000_friday</td>\n",
       "      <td>2019-09-06 17:20:00</td>\n",
       "      <td>checkout</td>\n",
       "      <td>friday</td>\n",
       "      <td>17:20:00</td>\n",
       "      <td>evening</td>\n",
       "      <td>fruit</td>\n",
       "    </tr>\n",
       "    <tr>\n",
       "      <th>2</th>\n",
       "      <td>1000_monday</td>\n",
       "      <td>2019-09-02 17:44:00</td>\n",
       "      <td>dairy</td>\n",
       "      <td>monday</td>\n",
       "      <td>17:44:00</td>\n",
       "      <td>evening</td>\n",
       "      <td>checkout</td>\n",
       "    </tr>\n",
       "    <tr>\n",
       "      <th>3</th>\n",
       "      <td>1000_monday</td>\n",
       "      <td>2019-09-02 17:45:00</td>\n",
       "      <td>dairy</td>\n",
       "      <td>monday</td>\n",
       "      <td>17:44:00</td>\n",
       "      <td>evening</td>\n",
       "      <td>dairy</td>\n",
       "    </tr>\n",
       "    <tr>\n",
       "      <th>4</th>\n",
       "      <td>1000_monday</td>\n",
       "      <td>2019-09-02 17:46:00</td>\n",
       "      <td>dairy</td>\n",
       "      <td>monday</td>\n",
       "      <td>17:44:00</td>\n",
       "      <td>evening</td>\n",
       "      <td>dairy</td>\n",
       "    </tr>\n",
       "    <tr>\n",
       "      <th>5</th>\n",
       "      <td>1000_monday</td>\n",
       "      <td>2019-09-02 17:47:00</td>\n",
       "      <td>dairy</td>\n",
       "      <td>monday</td>\n",
       "      <td>17:44:00</td>\n",
       "      <td>evening</td>\n",
       "      <td>dairy</td>\n",
       "    </tr>\n",
       "    <tr>\n",
       "      <th>6</th>\n",
       "      <td>1000_monday</td>\n",
       "      <td>2019-09-02 17:48:00</td>\n",
       "      <td>dairy</td>\n",
       "      <td>monday</td>\n",
       "      <td>17:44:00</td>\n",
       "      <td>evening</td>\n",
       "      <td>dairy</td>\n",
       "    </tr>\n",
       "    <tr>\n",
       "      <th>7</th>\n",
       "      <td>1000_monday</td>\n",
       "      <td>2019-09-02 17:49:00</td>\n",
       "      <td>dairy</td>\n",
       "      <td>monday</td>\n",
       "      <td>17:44:00</td>\n",
       "      <td>evening</td>\n",
       "      <td>dairy</td>\n",
       "    </tr>\n",
       "    <tr>\n",
       "      <th>8</th>\n",
       "      <td>1000_monday</td>\n",
       "      <td>2019-09-02 17:50:00</td>\n",
       "      <td>drinks</td>\n",
       "      <td>monday</td>\n",
       "      <td>17:50:00</td>\n",
       "      <td>evening</td>\n",
       "      <td>dairy</td>\n",
       "    </tr>\n",
       "    <tr>\n",
       "      <th>9</th>\n",
       "      <td>1000_monday</td>\n",
       "      <td>2019-09-02 17:51:00</td>\n",
       "      <td>checkout</td>\n",
       "      <td>monday</td>\n",
       "      <td>17:51:00</td>\n",
       "      <td>evening</td>\n",
       "      <td>drinks</td>\n",
       "    </tr>\n",
       "  </tbody>\n",
       "</table>\n",
       "</div>"
      ],
      "text/plain": [
       "   customer_no           timestamp  location     dow      time day_period   \n",
       "0  1000_friday 2019-09-06 17:19:00     fruit  friday  17:19:00    evening  \\\n",
       "1  1000_friday 2019-09-06 17:20:00  checkout  friday  17:20:00    evening   \n",
       "2  1000_monday 2019-09-02 17:44:00     dairy  monday  17:44:00    evening   \n",
       "3  1000_monday 2019-09-02 17:45:00     dairy  monday  17:44:00    evening   \n",
       "4  1000_monday 2019-09-02 17:46:00     dairy  monday  17:44:00    evening   \n",
       "5  1000_monday 2019-09-02 17:47:00     dairy  monday  17:44:00    evening   \n",
       "6  1000_monday 2019-09-02 17:48:00     dairy  monday  17:44:00    evening   \n",
       "7  1000_monday 2019-09-02 17:49:00     dairy  monday  17:44:00    evening   \n",
       "8  1000_monday 2019-09-02 17:50:00    drinks  monday  17:50:00    evening   \n",
       "9  1000_monday 2019-09-02 17:51:00  checkout  monday  17:51:00    evening   \n",
       "\n",
       "  from_location  \n",
       "0      checkout  \n",
       "1         fruit  \n",
       "2      checkout  \n",
       "3         dairy  \n",
       "4         dairy  \n",
       "5         dairy  \n",
       "6         dairy  \n",
       "7         dairy  \n",
       "8         dairy  \n",
       "9        drinks  "
      ]
     },
     "execution_count": 369,
     "metadata": {},
     "output_type": "execute_result"
    }
   ],
   "source": [
    "df_all_days[\"from_location\"] = (\n",
    "    df_all_days[\"location\"]\n",
    "    .shift(1)\n",
    "    .fillna(\"checkout\")\n",
    ")\n",
    "\n",
    "df_all_days.head(10)\n"
   ]
  },
  {
   "cell_type": "code",
   "execution_count": 370,
   "metadata": {},
   "outputs": [],
   "source": [
    "path = \"../data/cleaned_data.csv\"\n",
    "df_all_days.to_csv(path, index=False)\n"
   ]
  },
  {
   "attachments": {},
   "cell_type": "markdown",
   "metadata": {},
   "source": [
    "## EDA - General view of the number of customers per section\n"
   ]
  },
  {
   "attachments": {},
   "cell_type": "markdown",
   "metadata": {},
   "source": [
    "### Average customers per period per location:\n",
    "- calculate the count of customers per hour for each day of the week.\n",
    "- take the average count of customers per hour of day.\n"
   ]
  },
  {
   "cell_type": "code",
   "execution_count": 371,
   "metadata": {},
   "outputs": [
    {
     "data": {
      "text/html": [
       "<div>\n",
       "<style scoped>\n",
       "    .dataframe tbody tr th:only-of-type {\n",
       "        vertical-align: middle;\n",
       "    }\n",
       "\n",
       "    .dataframe tbody tr th {\n",
       "        vertical-align: top;\n",
       "    }\n",
       "\n",
       "    .dataframe thead th {\n",
       "        text-align: right;\n",
       "    }\n",
       "</style>\n",
       "<table border=\"1\" class=\"dataframe\">\n",
       "  <thead>\n",
       "    <tr style=\"text-align: right;\">\n",
       "      <th></th>\n",
       "      <th>location</th>\n",
       "      <th>day_period</th>\n",
       "      <th>customers</th>\n",
       "    </tr>\n",
       "  </thead>\n",
       "  <tbody>\n",
       "    <tr>\n",
       "      <th>0</th>\n",
       "      <td>checkout</td>\n",
       "      <td>afternoon</td>\n",
       "      <td>361.2</td>\n",
       "    </tr>\n",
       "    <tr>\n",
       "      <th>1</th>\n",
       "      <td>checkout</td>\n",
       "      <td>evening</td>\n",
       "      <td>656.8</td>\n",
       "    </tr>\n",
       "    <tr>\n",
       "      <th>2</th>\n",
       "      <td>checkout</td>\n",
       "      <td>morning</td>\n",
       "      <td>471.0</td>\n",
       "    </tr>\n",
       "    <tr>\n",
       "      <th>3</th>\n",
       "      <td>dairy</td>\n",
       "      <td>afternoon</td>\n",
       "      <td>902.8</td>\n",
       "    </tr>\n",
       "    <tr>\n",
       "      <th>4</th>\n",
       "      <td>dairy</td>\n",
       "      <td>evening</td>\n",
       "      <td>1470.4</td>\n",
       "    </tr>\n",
       "    <tr>\n",
       "      <th>5</th>\n",
       "      <td>dairy</td>\n",
       "      <td>morning</td>\n",
       "      <td>1181.6</td>\n",
       "    </tr>\n",
       "    <tr>\n",
       "      <th>6</th>\n",
       "      <td>drinks</td>\n",
       "      <td>afternoon</td>\n",
       "      <td>419.8</td>\n",
       "    </tr>\n",
       "    <tr>\n",
       "      <th>7</th>\n",
       "      <td>drinks</td>\n",
       "      <td>evening</td>\n",
       "      <td>928.8</td>\n",
       "    </tr>\n",
       "    <tr>\n",
       "      <th>8</th>\n",
       "      <td>drinks</td>\n",
       "      <td>morning</td>\n",
       "      <td>596.6</td>\n",
       "    </tr>\n",
       "    <tr>\n",
       "      <th>9</th>\n",
       "      <td>fruit</td>\n",
       "      <td>afternoon</td>\n",
       "      <td>639.6</td>\n",
       "    </tr>\n",
       "    <tr>\n",
       "      <th>10</th>\n",
       "      <td>fruit</td>\n",
       "      <td>evening</td>\n",
       "      <td>1090.0</td>\n",
       "    </tr>\n",
       "    <tr>\n",
       "      <th>11</th>\n",
       "      <td>fruit</td>\n",
       "      <td>morning</td>\n",
       "      <td>812.0</td>\n",
       "    </tr>\n",
       "    <tr>\n",
       "      <th>12</th>\n",
       "      <td>spices</td>\n",
       "      <td>afternoon</td>\n",
       "      <td>313.0</td>\n",
       "    </tr>\n",
       "    <tr>\n",
       "      <th>13</th>\n",
       "      <td>spices</td>\n",
       "      <td>evening</td>\n",
       "      <td>540.4</td>\n",
       "    </tr>\n",
       "    <tr>\n",
       "      <th>14</th>\n",
       "      <td>spices</td>\n",
       "      <td>morning</td>\n",
       "      <td>402.2</td>\n",
       "    </tr>\n",
       "  </tbody>\n",
       "</table>\n",
       "</div>"
      ],
      "text/plain": [
       "    location day_period  customers\n",
       "0   checkout  afternoon      361.2\n",
       "1   checkout    evening      656.8\n",
       "2   checkout    morning      471.0\n",
       "3      dairy  afternoon      902.8\n",
       "4      dairy    evening     1470.4\n",
       "5      dairy    morning     1181.6\n",
       "6     drinks  afternoon      419.8\n",
       "7     drinks    evening      928.8\n",
       "8     drinks    morning      596.6\n",
       "9      fruit  afternoon      639.6\n",
       "10     fruit    evening     1090.0\n",
       "11     fruit    morning      812.0\n",
       "12    spices  afternoon      313.0\n",
       "13    spices    evening      540.4\n",
       "14    spices    morning      402.2"
      ]
     },
     "execution_count": 371,
     "metadata": {},
     "output_type": "execute_result"
    }
   ],
   "source": [
    "week_overview_per_section_per_period_per_dow = (\n",
    "    df_all_days.groupby([\"location\", \"dow\", \"day_period\"])\n",
    "    .timestamp.count()\n",
    "    .reset_index()\n",
    "    .rename(columns={\"timestamp\": \"customers\"})\n",
    ")\n",
    "week_overview_per_section_per_period = (\n",
    "    week_overview_per_section_per_period_per_dow.groupby(\n",
    "        [\"location\", \"day_period\"]\n",
    "    )\n",
    "    .customers.mean()\n",
    "    .reset_index()\n",
    ")\n",
    "\n",
    "week_overview_per_section_per_period\n"
   ]
  },
  {
   "cell_type": "code",
   "execution_count": 372,
   "metadata": {},
   "outputs": [
    {
     "data": {
      "text/plain": [
       "array([361.2, 902.8, 419.8, 639.6, 313. ])"
      ]
     },
     "execution_count": 372,
     "metadata": {},
     "output_type": "execute_result"
    }
   ],
   "source": [
    "week_overview_per_section_per_period.query(\n",
    "    \" day_period == 'afternoon' \"\n",
    ").customers.values\n"
   ]
  },
  {
   "cell_type": "code",
   "execution_count": 373,
   "metadata": {},
   "outputs": [
    {
     "data": {
      "application/vnd.plotly.v1+json": {
       "config": {
        "plotlyServerURL": "https://plot.ly"
       },
       "data": [
        {
         "name": "morning",
         "type": "bar",
         "x": [
          "checkout",
          "dairy",
          "drinks",
          "fruit",
          "spices"
         ],
         "y": [
          471,
          1181.6,
          596.6,
          812,
          402.2
         ]
        },
        {
         "name": "afternoon",
         "type": "bar",
         "x": [
          "checkout",
          "dairy",
          "drinks",
          "fruit",
          "spices"
         ],
         "y": [
          361.2,
          902.8,
          419.8,
          639.6,
          313
         ]
        },
        {
         "name": "evening",
         "type": "bar",
         "x": [
          "checkout",
          "dairy",
          "drinks",
          "fruit",
          "spices"
         ],
         "y": [
          656.8,
          1470.4,
          928.8,
          1090,
          540.4
         ]
        }
       ],
       "layout": {
        "barmode": "group",
        "font": {
         "color": "white"
        },
        "paper_bgcolor": "rgba(0,0,0,0)",
        "plot_bgcolor": "rgba(0,0,0,0)",
        "template": {
         "data": {
          "bar": [
           {
            "error_x": {
             "color": "#2a3f5f"
            },
            "error_y": {
             "color": "#2a3f5f"
            },
            "marker": {
             "line": {
              "color": "#E5ECF6",
              "width": 0.5
             },
             "pattern": {
              "fillmode": "overlay",
              "size": 10,
              "solidity": 0.2
             }
            },
            "type": "bar"
           }
          ],
          "barpolar": [
           {
            "marker": {
             "line": {
              "color": "#E5ECF6",
              "width": 0.5
             },
             "pattern": {
              "fillmode": "overlay",
              "size": 10,
              "solidity": 0.2
             }
            },
            "type": "barpolar"
           }
          ],
          "carpet": [
           {
            "aaxis": {
             "endlinecolor": "#2a3f5f",
             "gridcolor": "white",
             "linecolor": "white",
             "minorgridcolor": "white",
             "startlinecolor": "#2a3f5f"
            },
            "baxis": {
             "endlinecolor": "#2a3f5f",
             "gridcolor": "white",
             "linecolor": "white",
             "minorgridcolor": "white",
             "startlinecolor": "#2a3f5f"
            },
            "type": "carpet"
           }
          ],
          "choropleth": [
           {
            "colorbar": {
             "outlinewidth": 0,
             "ticks": ""
            },
            "type": "choropleth"
           }
          ],
          "contour": [
           {
            "colorbar": {
             "outlinewidth": 0,
             "ticks": ""
            },
            "colorscale": [
             [
              0,
              "#0d0887"
             ],
             [
              0.1111111111111111,
              "#46039f"
             ],
             [
              0.2222222222222222,
              "#7201a8"
             ],
             [
              0.3333333333333333,
              "#9c179e"
             ],
             [
              0.4444444444444444,
              "#bd3786"
             ],
             [
              0.5555555555555556,
              "#d8576b"
             ],
             [
              0.6666666666666666,
              "#ed7953"
             ],
             [
              0.7777777777777778,
              "#fb9f3a"
             ],
             [
              0.8888888888888888,
              "#fdca26"
             ],
             [
              1,
              "#f0f921"
             ]
            ],
            "type": "contour"
           }
          ],
          "contourcarpet": [
           {
            "colorbar": {
             "outlinewidth": 0,
             "ticks": ""
            },
            "type": "contourcarpet"
           }
          ],
          "heatmap": [
           {
            "colorbar": {
             "outlinewidth": 0,
             "ticks": ""
            },
            "colorscale": [
             [
              0,
              "#0d0887"
             ],
             [
              0.1111111111111111,
              "#46039f"
             ],
             [
              0.2222222222222222,
              "#7201a8"
             ],
             [
              0.3333333333333333,
              "#9c179e"
             ],
             [
              0.4444444444444444,
              "#bd3786"
             ],
             [
              0.5555555555555556,
              "#d8576b"
             ],
             [
              0.6666666666666666,
              "#ed7953"
             ],
             [
              0.7777777777777778,
              "#fb9f3a"
             ],
             [
              0.8888888888888888,
              "#fdca26"
             ],
             [
              1,
              "#f0f921"
             ]
            ],
            "type": "heatmap"
           }
          ],
          "heatmapgl": [
           {
            "colorbar": {
             "outlinewidth": 0,
             "ticks": ""
            },
            "colorscale": [
             [
              0,
              "#0d0887"
             ],
             [
              0.1111111111111111,
              "#46039f"
             ],
             [
              0.2222222222222222,
              "#7201a8"
             ],
             [
              0.3333333333333333,
              "#9c179e"
             ],
             [
              0.4444444444444444,
              "#bd3786"
             ],
             [
              0.5555555555555556,
              "#d8576b"
             ],
             [
              0.6666666666666666,
              "#ed7953"
             ],
             [
              0.7777777777777778,
              "#fb9f3a"
             ],
             [
              0.8888888888888888,
              "#fdca26"
             ],
             [
              1,
              "#f0f921"
             ]
            ],
            "type": "heatmapgl"
           }
          ],
          "histogram": [
           {
            "marker": {
             "pattern": {
              "fillmode": "overlay",
              "size": 10,
              "solidity": 0.2
             }
            },
            "type": "histogram"
           }
          ],
          "histogram2d": [
           {
            "colorbar": {
             "outlinewidth": 0,
             "ticks": ""
            },
            "colorscale": [
             [
              0,
              "#0d0887"
             ],
             [
              0.1111111111111111,
              "#46039f"
             ],
             [
              0.2222222222222222,
              "#7201a8"
             ],
             [
              0.3333333333333333,
              "#9c179e"
             ],
             [
              0.4444444444444444,
              "#bd3786"
             ],
             [
              0.5555555555555556,
              "#d8576b"
             ],
             [
              0.6666666666666666,
              "#ed7953"
             ],
             [
              0.7777777777777778,
              "#fb9f3a"
             ],
             [
              0.8888888888888888,
              "#fdca26"
             ],
             [
              1,
              "#f0f921"
             ]
            ],
            "type": "histogram2d"
           }
          ],
          "histogram2dcontour": [
           {
            "colorbar": {
             "outlinewidth": 0,
             "ticks": ""
            },
            "colorscale": [
             [
              0,
              "#0d0887"
             ],
             [
              0.1111111111111111,
              "#46039f"
             ],
             [
              0.2222222222222222,
              "#7201a8"
             ],
             [
              0.3333333333333333,
              "#9c179e"
             ],
             [
              0.4444444444444444,
              "#bd3786"
             ],
             [
              0.5555555555555556,
              "#d8576b"
             ],
             [
              0.6666666666666666,
              "#ed7953"
             ],
             [
              0.7777777777777778,
              "#fb9f3a"
             ],
             [
              0.8888888888888888,
              "#fdca26"
             ],
             [
              1,
              "#f0f921"
             ]
            ],
            "type": "histogram2dcontour"
           }
          ],
          "mesh3d": [
           {
            "colorbar": {
             "outlinewidth": 0,
             "ticks": ""
            },
            "type": "mesh3d"
           }
          ],
          "parcoords": [
           {
            "line": {
             "colorbar": {
              "outlinewidth": 0,
              "ticks": ""
             }
            },
            "type": "parcoords"
           }
          ],
          "pie": [
           {
            "automargin": true,
            "type": "pie"
           }
          ],
          "scatter": [
           {
            "fillpattern": {
             "fillmode": "overlay",
             "size": 10,
             "solidity": 0.2
            },
            "type": "scatter"
           }
          ],
          "scatter3d": [
           {
            "line": {
             "colorbar": {
              "outlinewidth": 0,
              "ticks": ""
             }
            },
            "marker": {
             "colorbar": {
              "outlinewidth": 0,
              "ticks": ""
             }
            },
            "type": "scatter3d"
           }
          ],
          "scattercarpet": [
           {
            "marker": {
             "colorbar": {
              "outlinewidth": 0,
              "ticks": ""
             }
            },
            "type": "scattercarpet"
           }
          ],
          "scattergeo": [
           {
            "marker": {
             "colorbar": {
              "outlinewidth": 0,
              "ticks": ""
             }
            },
            "type": "scattergeo"
           }
          ],
          "scattergl": [
           {
            "marker": {
             "colorbar": {
              "outlinewidth": 0,
              "ticks": ""
             }
            },
            "type": "scattergl"
           }
          ],
          "scattermapbox": [
           {
            "marker": {
             "colorbar": {
              "outlinewidth": 0,
              "ticks": ""
             }
            },
            "type": "scattermapbox"
           }
          ],
          "scatterpolar": [
           {
            "marker": {
             "colorbar": {
              "outlinewidth": 0,
              "ticks": ""
             }
            },
            "type": "scatterpolar"
           }
          ],
          "scatterpolargl": [
           {
            "marker": {
             "colorbar": {
              "outlinewidth": 0,
              "ticks": ""
             }
            },
            "type": "scatterpolargl"
           }
          ],
          "scatterternary": [
           {
            "marker": {
             "colorbar": {
              "outlinewidth": 0,
              "ticks": ""
             }
            },
            "type": "scatterternary"
           }
          ],
          "surface": [
           {
            "colorbar": {
             "outlinewidth": 0,
             "ticks": ""
            },
            "colorscale": [
             [
              0,
              "#0d0887"
             ],
             [
              0.1111111111111111,
              "#46039f"
             ],
             [
              0.2222222222222222,
              "#7201a8"
             ],
             [
              0.3333333333333333,
              "#9c179e"
             ],
             [
              0.4444444444444444,
              "#bd3786"
             ],
             [
              0.5555555555555556,
              "#d8576b"
             ],
             [
              0.6666666666666666,
              "#ed7953"
             ],
             [
              0.7777777777777778,
              "#fb9f3a"
             ],
             [
              0.8888888888888888,
              "#fdca26"
             ],
             [
              1,
              "#f0f921"
             ]
            ],
            "type": "surface"
           }
          ],
          "table": [
           {
            "cells": {
             "fill": {
              "color": "#EBF0F8"
             },
             "line": {
              "color": "white"
             }
            },
            "header": {
             "fill": {
              "color": "#C8D4E3"
             },
             "line": {
              "color": "white"
             }
            },
            "type": "table"
           }
          ]
         },
         "layout": {
          "annotationdefaults": {
           "arrowcolor": "#2a3f5f",
           "arrowhead": 0,
           "arrowwidth": 1
          },
          "autotypenumbers": "strict",
          "coloraxis": {
           "colorbar": {
            "outlinewidth": 0,
            "ticks": ""
           }
          },
          "colorscale": {
           "diverging": [
            [
             0,
             "#8e0152"
            ],
            [
             0.1,
             "#c51b7d"
            ],
            [
             0.2,
             "#de77ae"
            ],
            [
             0.3,
             "#f1b6da"
            ],
            [
             0.4,
             "#fde0ef"
            ],
            [
             0.5,
             "#f7f7f7"
            ],
            [
             0.6,
             "#e6f5d0"
            ],
            [
             0.7,
             "#b8e186"
            ],
            [
             0.8,
             "#7fbc41"
            ],
            [
             0.9,
             "#4d9221"
            ],
            [
             1,
             "#276419"
            ]
           ],
           "sequential": [
            [
             0,
             "#0d0887"
            ],
            [
             0.1111111111111111,
             "#46039f"
            ],
            [
             0.2222222222222222,
             "#7201a8"
            ],
            [
             0.3333333333333333,
             "#9c179e"
            ],
            [
             0.4444444444444444,
             "#bd3786"
            ],
            [
             0.5555555555555556,
             "#d8576b"
            ],
            [
             0.6666666666666666,
             "#ed7953"
            ],
            [
             0.7777777777777778,
             "#fb9f3a"
            ],
            [
             0.8888888888888888,
             "#fdca26"
            ],
            [
             1,
             "#f0f921"
            ]
           ],
           "sequentialminus": [
            [
             0,
             "#0d0887"
            ],
            [
             0.1111111111111111,
             "#46039f"
            ],
            [
             0.2222222222222222,
             "#7201a8"
            ],
            [
             0.3333333333333333,
             "#9c179e"
            ],
            [
             0.4444444444444444,
             "#bd3786"
            ],
            [
             0.5555555555555556,
             "#d8576b"
            ],
            [
             0.6666666666666666,
             "#ed7953"
            ],
            [
             0.7777777777777778,
             "#fb9f3a"
            ],
            [
             0.8888888888888888,
             "#fdca26"
            ],
            [
             1,
             "#f0f921"
            ]
           ]
          },
          "colorway": [
           "#636efa",
           "#EF553B",
           "#00cc96",
           "#ab63fa",
           "#FFA15A",
           "#19d3f3",
           "#FF6692",
           "#B6E880",
           "#FF97FF",
           "#FECB52"
          ],
          "font": {
           "color": "#2a3f5f"
          },
          "geo": {
           "bgcolor": "white",
           "lakecolor": "white",
           "landcolor": "#E5ECF6",
           "showlakes": true,
           "showland": true,
           "subunitcolor": "white"
          },
          "hoverlabel": {
           "align": "left"
          },
          "hovermode": "closest",
          "mapbox": {
           "style": "light"
          },
          "paper_bgcolor": "white",
          "plot_bgcolor": "#E5ECF6",
          "polar": {
           "angularaxis": {
            "gridcolor": "white",
            "linecolor": "white",
            "ticks": ""
           },
           "bgcolor": "#E5ECF6",
           "radialaxis": {
            "gridcolor": "white",
            "linecolor": "white",
            "ticks": ""
           }
          },
          "scene": {
           "xaxis": {
            "backgroundcolor": "#E5ECF6",
            "gridcolor": "white",
            "gridwidth": 2,
            "linecolor": "white",
            "showbackground": true,
            "ticks": "",
            "zerolinecolor": "white"
           },
           "yaxis": {
            "backgroundcolor": "#E5ECF6",
            "gridcolor": "white",
            "gridwidth": 2,
            "linecolor": "white",
            "showbackground": true,
            "ticks": "",
            "zerolinecolor": "white"
           },
           "zaxis": {
            "backgroundcolor": "#E5ECF6",
            "gridcolor": "white",
            "gridwidth": 2,
            "linecolor": "white",
            "showbackground": true,
            "ticks": "",
            "zerolinecolor": "white"
           }
          },
          "shapedefaults": {
           "line": {
            "color": "#2a3f5f"
           }
          },
          "ternary": {
           "aaxis": {
            "gridcolor": "white",
            "linecolor": "white",
            "ticks": ""
           },
           "baxis": {
            "gridcolor": "white",
            "linecolor": "white",
            "ticks": ""
           },
           "bgcolor": "#E5ECF6",
           "caxis": {
            "gridcolor": "white",
            "linecolor": "white",
            "ticks": ""
           }
          },
          "title": {
           "x": 0.05
          },
          "xaxis": {
           "automargin": true,
           "gridcolor": "white",
           "linecolor": "white",
           "ticks": "",
           "title": {
            "standoff": 15
           },
           "zerolinecolor": "white",
           "zerolinewidth": 2
          },
          "yaxis": {
           "automargin": true,
           "gridcolor": "white",
           "linecolor": "white",
           "ticks": "",
           "title": {
            "standoff": 15
           },
           "zerolinecolor": "white",
           "zerolinewidth": 2
          }
         }
        },
        "title": {
         "text": "Average count of customers per location and period of day",
         "x": 0.5
        },
        "xaxis": {
         "showgrid": false,
         "tickangle": -45
        },
        "yaxis": {
         "showgrid": false
        }
       }
      }
     },
     "metadata": {},
     "output_type": "display_data"
    }
   ],
   "source": [
    "layout = dict(\n",
    "    xaxis=dict(showgrid=False),\n",
    "    yaxis=dict(showgrid=False),\n",
    "    paper_bgcolor=\"rgba(0,0,0,0)\",\n",
    "    plot_bgcolor=\"rgba(0,0,0,0)\",\n",
    "    title_x=0.5,\n",
    "    font=dict(color=\"white\"),\n",
    ")\n",
    "\n",
    "title = \"Average count of customers per location and period of day\"\n",
    "fig = go.Figure()\n",
    "\n",
    "locations = week_overview_per_section_per_period.location.unique().tolist()\n",
    "day_periods = [\"morning\", \"afternoon\", \"evening\"]\n",
    "\n",
    "for period in day_periods:\n",
    "    fig.add_trace(\n",
    "        go.Bar(\n",
    "            x=locations,\n",
    "            y=week_overview_per_section_per_period.query(\n",
    "                f\" day_period == '{period}' \"\n",
    "            ).customers.values,\n",
    "            name=period,\n",
    "        )\n",
    "    )\n",
    "\n",
    "# Here we modify the tickangle of the xaxis, resulting in rotated labels.\n",
    "fig.update_layout(\n",
    "    **layout, barmode=\"group\", xaxis_tickangle=-45, title_text=title\n",
    ")\n",
    "fig.show()\n"
   ]
  },
  {
   "attachments": {},
   "cell_type": "markdown",
   "metadata": {},
   "source": [
    "### Entire Week overview (all data), per hour of the day:\n"
   ]
  },
  {
   "cell_type": "code",
   "execution_count": 374,
   "metadata": {},
   "outputs": [
    {
     "data": {
      "text/html": [
       "<div>\n",
       "<style scoped>\n",
       "    .dataframe tbody tr th:only-of-type {\n",
       "        vertical-align: middle;\n",
       "    }\n",
       "\n",
       "    .dataframe tbody tr th {\n",
       "        vertical-align: top;\n",
       "    }\n",
       "\n",
       "    .dataframe thead th {\n",
       "        text-align: right;\n",
       "    }\n",
       "</style>\n",
       "<table border=\"1\" class=\"dataframe\">\n",
       "  <thead>\n",
       "    <tr style=\"text-align: right;\">\n",
       "      <th></th>\n",
       "      <th>location</th>\n",
       "      <th>hour_of_day</th>\n",
       "      <th>customers</th>\n",
       "    </tr>\n",
       "  </thead>\n",
       "  <tbody>\n",
       "    <tr>\n",
       "      <th>0</th>\n",
       "      <td>checkout</td>\n",
       "      <td>7</td>\n",
       "      <td>90.8</td>\n",
       "    </tr>\n",
       "    <tr>\n",
       "      <th>1</th>\n",
       "      <td>checkout</td>\n",
       "      <td>8</td>\n",
       "      <td>135.4</td>\n",
       "    </tr>\n",
       "    <tr>\n",
       "      <th>2</th>\n",
       "      <td>checkout</td>\n",
       "      <td>9</td>\n",
       "      <td>91.0</td>\n",
       "    </tr>\n",
       "    <tr>\n",
       "      <th>3</th>\n",
       "      <td>checkout</td>\n",
       "      <td>10</td>\n",
       "      <td>85.4</td>\n",
       "    </tr>\n",
       "    <tr>\n",
       "      <th>4</th>\n",
       "      <td>checkout</td>\n",
       "      <td>11</td>\n",
       "      <td>68.4</td>\n",
       "    </tr>\n",
       "    <tr>\n",
       "      <th>5</th>\n",
       "      <td>checkout</td>\n",
       "      <td>12</td>\n",
       "      <td>76.8</td>\n",
       "    </tr>\n",
       "    <tr>\n",
       "      <th>6</th>\n",
       "      <td>checkout</td>\n",
       "      <td>13</td>\n",
       "      <td>102.8</td>\n",
       "    </tr>\n",
       "    <tr>\n",
       "      <th>7</th>\n",
       "      <td>checkout</td>\n",
       "      <td>14</td>\n",
       "      <td>99.2</td>\n",
       "    </tr>\n",
       "    <tr>\n",
       "      <th>8</th>\n",
       "      <td>checkout</td>\n",
       "      <td>15</td>\n",
       "      <td>82.4</td>\n",
       "    </tr>\n",
       "    <tr>\n",
       "      <th>9</th>\n",
       "      <td>checkout</td>\n",
       "      <td>16</td>\n",
       "      <td>103.6</td>\n",
       "    </tr>\n",
       "  </tbody>\n",
       "</table>\n",
       "</div>"
      ],
      "text/plain": [
       "   location  hour_of_day  customers\n",
       "0  checkout            7       90.8\n",
       "1  checkout            8      135.4\n",
       "2  checkout            9       91.0\n",
       "3  checkout           10       85.4\n",
       "4  checkout           11       68.4\n",
       "5  checkout           12       76.8\n",
       "6  checkout           13      102.8\n",
       "7  checkout           14       99.2\n",
       "8  checkout           15       82.4\n",
       "9  checkout           16      103.6"
      ]
     },
     "execution_count": 374,
     "metadata": {},
     "output_type": "execute_result"
    }
   ],
   "source": [
    "df_all_days[\"hour_of_day\"] = df_all_days.timestamp.dt.hour\n",
    "\n",
    "week_overview_per_section_per_hour_per_dow = (\n",
    "    df_all_days.groupby([\"location\", \"dow\", \"hour_of_day\"])\n",
    "    .timestamp.count()\n",
    "    .reset_index()\n",
    "    .rename(columns={\"timestamp\": \"customers\"})\n",
    ")\n",
    "week_overview_per_section_per_hour = (\n",
    "    week_overview_per_section_per_hour_per_dow.groupby(\n",
    "        [\"location\", \"hour_of_day\"]\n",
    "    )\n",
    "    .customers.mean()\n",
    "    .reset_index()\n",
    ")\n",
    "\n",
    "week_overview_per_section_per_hour.head(10)\n"
   ]
  },
  {
   "cell_type": "code",
   "execution_count": 375,
   "metadata": {},
   "outputs": [
    {
     "data": {
      "application/vnd.plotly.v1+json": {
       "config": {
        "plotlyServerURL": "https://plot.ly"
       },
       "data": [
        {
         "name": "checkout",
         "text": [
          90.8,
          135.4,
          91,
          85.4,
          68.4,
          76.8,
          102.8,
          99.2,
          82.4,
          103.6,
          111.2,
          126,
          151,
          98.4,
          66.6
         ],
         "textposition": "auto",
         "type": "bar",
         "x": [
          7,
          8,
          9,
          10,
          11,
          12,
          13,
          14,
          15,
          16,
          17,
          18,
          19,
          20,
          21
         ],
         "xaxis": "x",
         "y": [
          90.8,
          135.4,
          91,
          85.4,
          68.4,
          76.8,
          102.8,
          99.2,
          82.4,
          103.6,
          111.2,
          126,
          151,
          98.4,
          66.6
         ],
         "yaxis": "y"
        },
        {
         "name": "dairy",
         "text": [
          188.4,
          340,
          239.8,
          245.6,
          163.4,
          182.2,
          265.2,
          258,
          197.4,
          240.8,
          261.8,
          311.8,
          342.8,
          209.4,
          108.2
         ],
         "textposition": "auto",
         "type": "bar",
         "x": [
          7,
          8,
          9,
          10,
          11,
          12,
          13,
          14,
          15,
          16,
          17,
          18,
          19,
          20,
          21
         ],
         "xaxis": "x2",
         "y": [
          188.4,
          340,
          239.8,
          245.6,
          163.4,
          182.2,
          265.2,
          258,
          197.4,
          240.8,
          261.8,
          311.8,
          342.8,
          209.4,
          108.2
         ],
         "yaxis": "y2"
        },
        {
         "name": "drinks",
         "text": [
          146.2,
          162.8,
          118.4,
          90,
          78.4,
          93,
          117.4,
          116.8,
          90.4,
          137.2,
          137.4,
          179.4,
          214.2,
          164.8,
          98.8
         ],
         "textposition": "auto",
         "type": "bar",
         "x": [
          7,
          8,
          9,
          10,
          11,
          12,
          13,
          14,
          15,
          16,
          17,
          18,
          19,
          20,
          21
         ],
         "xaxis": "x3",
         "y": [
          146.2,
          162.8,
          118.4,
          90,
          78.4,
          93,
          117.4,
          116.8,
          90.4,
          137.2,
          137.4,
          179.4,
          214.2,
          164.8,
          98.8
         ],
         "yaxis": "y3"
        },
        {
         "name": "fruit",
         "text": [
          147,
          238.8,
          172.2,
          134,
          116.8,
          121.2,
          196.8,
          161.8,
          160.8,
          180.6,
          213.2,
          214.8,
          247,
          147.4,
          89.2
         ],
         "textposition": "auto",
         "type": "bar",
         "x": [
          7,
          8,
          9,
          10,
          11,
          12,
          13,
          14,
          15,
          16,
          17,
          18,
          19,
          20,
          21
         ],
         "xaxis": "x4",
         "y": [
          147,
          238.8,
          172.2,
          134,
          116.8,
          121.2,
          196.8,
          161.8,
          160.8,
          180.6,
          213.2,
          214.8,
          247,
          147.4,
          89.2
         ],
         "yaxis": "y4"
        },
        {
         "name": "spices",
         "text": [
          76.4,
          119.4,
          66.6,
          83.2,
          56.6,
          64.4,
          93.6,
          93.6,
          61,
          87.8,
          85.4,
          113.2,
          126.6,
          85,
          42.8
         ],
         "textposition": "auto",
         "type": "bar",
         "x": [
          7,
          8,
          9,
          10,
          11,
          12,
          13,
          14,
          15,
          16,
          17,
          18,
          19,
          20,
          21
         ],
         "xaxis": "x5",
         "y": [
          76.4,
          119.4,
          66.6,
          83.2,
          56.6,
          64.4,
          93.6,
          93.6,
          61,
          87.8,
          85.4,
          113.2,
          126.6,
          85,
          42.8
         ],
         "yaxis": "y5"
        }
       ],
       "layout": {
        "annotations": [
         {
          "font": {
           "size": 16
          },
          "showarrow": false,
          "text": "checkout",
          "x": 0.5,
          "xanchor": "center",
          "xref": "paper",
          "y": 1,
          "yanchor": "bottom",
          "yref": "paper"
         },
         {
          "font": {
           "size": 16
          },
          "showarrow": false,
          "text": "dairy",
          "x": 0.5,
          "xanchor": "center",
          "xref": "paper",
          "y": 0.78,
          "yanchor": "bottom",
          "yref": "paper"
         },
         {
          "font": {
           "size": 16
          },
          "showarrow": false,
          "text": "drinks",
          "x": 0.5,
          "xanchor": "center",
          "xref": "paper",
          "y": 0.56,
          "yanchor": "bottom",
          "yref": "paper"
         },
         {
          "font": {
           "size": 16
          },
          "showarrow": false,
          "text": "fruit",
          "x": 0.5,
          "xanchor": "center",
          "xref": "paper",
          "y": 0.33999999999999997,
          "yanchor": "bottom",
          "yref": "paper"
         },
         {
          "font": {
           "size": 16
          },
          "showarrow": false,
          "text": "spices",
          "x": 0.5,
          "xanchor": "center",
          "xref": "paper",
          "y": 0.12,
          "yanchor": "bottom",
          "yref": "paper"
         }
        ],
        "font": {
         "color": "white"
        },
        "height": 1000,
        "paper_bgcolor": "rgba(0,0,0,0)",
        "plot_bgcolor": "rgba(0,0,0,0)",
        "showlegend": false,
        "template": {
         "data": {
          "bar": [
           {
            "error_x": {
             "color": "#2a3f5f"
            },
            "error_y": {
             "color": "#2a3f5f"
            },
            "marker": {
             "line": {
              "color": "#E5ECF6",
              "width": 0.5
             },
             "pattern": {
              "fillmode": "overlay",
              "size": 10,
              "solidity": 0.2
             }
            },
            "type": "bar"
           }
          ],
          "barpolar": [
           {
            "marker": {
             "line": {
              "color": "#E5ECF6",
              "width": 0.5
             },
             "pattern": {
              "fillmode": "overlay",
              "size": 10,
              "solidity": 0.2
             }
            },
            "type": "barpolar"
           }
          ],
          "carpet": [
           {
            "aaxis": {
             "endlinecolor": "#2a3f5f",
             "gridcolor": "white",
             "linecolor": "white",
             "minorgridcolor": "white",
             "startlinecolor": "#2a3f5f"
            },
            "baxis": {
             "endlinecolor": "#2a3f5f",
             "gridcolor": "white",
             "linecolor": "white",
             "minorgridcolor": "white",
             "startlinecolor": "#2a3f5f"
            },
            "type": "carpet"
           }
          ],
          "choropleth": [
           {
            "colorbar": {
             "outlinewidth": 0,
             "ticks": ""
            },
            "type": "choropleth"
           }
          ],
          "contour": [
           {
            "colorbar": {
             "outlinewidth": 0,
             "ticks": ""
            },
            "colorscale": [
             [
              0,
              "#0d0887"
             ],
             [
              0.1111111111111111,
              "#46039f"
             ],
             [
              0.2222222222222222,
              "#7201a8"
             ],
             [
              0.3333333333333333,
              "#9c179e"
             ],
             [
              0.4444444444444444,
              "#bd3786"
             ],
             [
              0.5555555555555556,
              "#d8576b"
             ],
             [
              0.6666666666666666,
              "#ed7953"
             ],
             [
              0.7777777777777778,
              "#fb9f3a"
             ],
             [
              0.8888888888888888,
              "#fdca26"
             ],
             [
              1,
              "#f0f921"
             ]
            ],
            "type": "contour"
           }
          ],
          "contourcarpet": [
           {
            "colorbar": {
             "outlinewidth": 0,
             "ticks": ""
            },
            "type": "contourcarpet"
           }
          ],
          "heatmap": [
           {
            "colorbar": {
             "outlinewidth": 0,
             "ticks": ""
            },
            "colorscale": [
             [
              0,
              "#0d0887"
             ],
             [
              0.1111111111111111,
              "#46039f"
             ],
             [
              0.2222222222222222,
              "#7201a8"
             ],
             [
              0.3333333333333333,
              "#9c179e"
             ],
             [
              0.4444444444444444,
              "#bd3786"
             ],
             [
              0.5555555555555556,
              "#d8576b"
             ],
             [
              0.6666666666666666,
              "#ed7953"
             ],
             [
              0.7777777777777778,
              "#fb9f3a"
             ],
             [
              0.8888888888888888,
              "#fdca26"
             ],
             [
              1,
              "#f0f921"
             ]
            ],
            "type": "heatmap"
           }
          ],
          "heatmapgl": [
           {
            "colorbar": {
             "outlinewidth": 0,
             "ticks": ""
            },
            "colorscale": [
             [
              0,
              "#0d0887"
             ],
             [
              0.1111111111111111,
              "#46039f"
             ],
             [
              0.2222222222222222,
              "#7201a8"
             ],
             [
              0.3333333333333333,
              "#9c179e"
             ],
             [
              0.4444444444444444,
              "#bd3786"
             ],
             [
              0.5555555555555556,
              "#d8576b"
             ],
             [
              0.6666666666666666,
              "#ed7953"
             ],
             [
              0.7777777777777778,
              "#fb9f3a"
             ],
             [
              0.8888888888888888,
              "#fdca26"
             ],
             [
              1,
              "#f0f921"
             ]
            ],
            "type": "heatmapgl"
           }
          ],
          "histogram": [
           {
            "marker": {
             "pattern": {
              "fillmode": "overlay",
              "size": 10,
              "solidity": 0.2
             }
            },
            "type": "histogram"
           }
          ],
          "histogram2d": [
           {
            "colorbar": {
             "outlinewidth": 0,
             "ticks": ""
            },
            "colorscale": [
             [
              0,
              "#0d0887"
             ],
             [
              0.1111111111111111,
              "#46039f"
             ],
             [
              0.2222222222222222,
              "#7201a8"
             ],
             [
              0.3333333333333333,
              "#9c179e"
             ],
             [
              0.4444444444444444,
              "#bd3786"
             ],
             [
              0.5555555555555556,
              "#d8576b"
             ],
             [
              0.6666666666666666,
              "#ed7953"
             ],
             [
              0.7777777777777778,
              "#fb9f3a"
             ],
             [
              0.8888888888888888,
              "#fdca26"
             ],
             [
              1,
              "#f0f921"
             ]
            ],
            "type": "histogram2d"
           }
          ],
          "histogram2dcontour": [
           {
            "colorbar": {
             "outlinewidth": 0,
             "ticks": ""
            },
            "colorscale": [
             [
              0,
              "#0d0887"
             ],
             [
              0.1111111111111111,
              "#46039f"
             ],
             [
              0.2222222222222222,
              "#7201a8"
             ],
             [
              0.3333333333333333,
              "#9c179e"
             ],
             [
              0.4444444444444444,
              "#bd3786"
             ],
             [
              0.5555555555555556,
              "#d8576b"
             ],
             [
              0.6666666666666666,
              "#ed7953"
             ],
             [
              0.7777777777777778,
              "#fb9f3a"
             ],
             [
              0.8888888888888888,
              "#fdca26"
             ],
             [
              1,
              "#f0f921"
             ]
            ],
            "type": "histogram2dcontour"
           }
          ],
          "mesh3d": [
           {
            "colorbar": {
             "outlinewidth": 0,
             "ticks": ""
            },
            "type": "mesh3d"
           }
          ],
          "parcoords": [
           {
            "line": {
             "colorbar": {
              "outlinewidth": 0,
              "ticks": ""
             }
            },
            "type": "parcoords"
           }
          ],
          "pie": [
           {
            "automargin": true,
            "type": "pie"
           }
          ],
          "scatter": [
           {
            "fillpattern": {
             "fillmode": "overlay",
             "size": 10,
             "solidity": 0.2
            },
            "type": "scatter"
           }
          ],
          "scatter3d": [
           {
            "line": {
             "colorbar": {
              "outlinewidth": 0,
              "ticks": ""
             }
            },
            "marker": {
             "colorbar": {
              "outlinewidth": 0,
              "ticks": ""
             }
            },
            "type": "scatter3d"
           }
          ],
          "scattercarpet": [
           {
            "marker": {
             "colorbar": {
              "outlinewidth": 0,
              "ticks": ""
             }
            },
            "type": "scattercarpet"
           }
          ],
          "scattergeo": [
           {
            "marker": {
             "colorbar": {
              "outlinewidth": 0,
              "ticks": ""
             }
            },
            "type": "scattergeo"
           }
          ],
          "scattergl": [
           {
            "marker": {
             "colorbar": {
              "outlinewidth": 0,
              "ticks": ""
             }
            },
            "type": "scattergl"
           }
          ],
          "scattermapbox": [
           {
            "marker": {
             "colorbar": {
              "outlinewidth": 0,
              "ticks": ""
             }
            },
            "type": "scattermapbox"
           }
          ],
          "scatterpolar": [
           {
            "marker": {
             "colorbar": {
              "outlinewidth": 0,
              "ticks": ""
             }
            },
            "type": "scatterpolar"
           }
          ],
          "scatterpolargl": [
           {
            "marker": {
             "colorbar": {
              "outlinewidth": 0,
              "ticks": ""
             }
            },
            "type": "scatterpolargl"
           }
          ],
          "scatterternary": [
           {
            "marker": {
             "colorbar": {
              "outlinewidth": 0,
              "ticks": ""
             }
            },
            "type": "scatterternary"
           }
          ],
          "surface": [
           {
            "colorbar": {
             "outlinewidth": 0,
             "ticks": ""
            },
            "colorscale": [
             [
              0,
              "#0d0887"
             ],
             [
              0.1111111111111111,
              "#46039f"
             ],
             [
              0.2222222222222222,
              "#7201a8"
             ],
             [
              0.3333333333333333,
              "#9c179e"
             ],
             [
              0.4444444444444444,
              "#bd3786"
             ],
             [
              0.5555555555555556,
              "#d8576b"
             ],
             [
              0.6666666666666666,
              "#ed7953"
             ],
             [
              0.7777777777777778,
              "#fb9f3a"
             ],
             [
              0.8888888888888888,
              "#fdca26"
             ],
             [
              1,
              "#f0f921"
             ]
            ],
            "type": "surface"
           }
          ],
          "table": [
           {
            "cells": {
             "fill": {
              "color": "#EBF0F8"
             },
             "line": {
              "color": "white"
             }
            },
            "header": {
             "fill": {
              "color": "#C8D4E3"
             },
             "line": {
              "color": "white"
             }
            },
            "type": "table"
           }
          ]
         },
         "layout": {
          "annotationdefaults": {
           "arrowcolor": "#2a3f5f",
           "arrowhead": 0,
           "arrowwidth": 1
          },
          "autotypenumbers": "strict",
          "coloraxis": {
           "colorbar": {
            "outlinewidth": 0,
            "ticks": ""
           }
          },
          "colorscale": {
           "diverging": [
            [
             0,
             "#8e0152"
            ],
            [
             0.1,
             "#c51b7d"
            ],
            [
             0.2,
             "#de77ae"
            ],
            [
             0.3,
             "#f1b6da"
            ],
            [
             0.4,
             "#fde0ef"
            ],
            [
             0.5,
             "#f7f7f7"
            ],
            [
             0.6,
             "#e6f5d0"
            ],
            [
             0.7,
             "#b8e186"
            ],
            [
             0.8,
             "#7fbc41"
            ],
            [
             0.9,
             "#4d9221"
            ],
            [
             1,
             "#276419"
            ]
           ],
           "sequential": [
            [
             0,
             "#0d0887"
            ],
            [
             0.1111111111111111,
             "#46039f"
            ],
            [
             0.2222222222222222,
             "#7201a8"
            ],
            [
             0.3333333333333333,
             "#9c179e"
            ],
            [
             0.4444444444444444,
             "#bd3786"
            ],
            [
             0.5555555555555556,
             "#d8576b"
            ],
            [
             0.6666666666666666,
             "#ed7953"
            ],
            [
             0.7777777777777778,
             "#fb9f3a"
            ],
            [
             0.8888888888888888,
             "#fdca26"
            ],
            [
             1,
             "#f0f921"
            ]
           ],
           "sequentialminus": [
            [
             0,
             "#0d0887"
            ],
            [
             0.1111111111111111,
             "#46039f"
            ],
            [
             0.2222222222222222,
             "#7201a8"
            ],
            [
             0.3333333333333333,
             "#9c179e"
            ],
            [
             0.4444444444444444,
             "#bd3786"
            ],
            [
             0.5555555555555556,
             "#d8576b"
            ],
            [
             0.6666666666666666,
             "#ed7953"
            ],
            [
             0.7777777777777778,
             "#fb9f3a"
            ],
            [
             0.8888888888888888,
             "#fdca26"
            ],
            [
             1,
             "#f0f921"
            ]
           ]
          },
          "colorway": [
           "#636efa",
           "#EF553B",
           "#00cc96",
           "#ab63fa",
           "#FFA15A",
           "#19d3f3",
           "#FF6692",
           "#B6E880",
           "#FF97FF",
           "#FECB52"
          ],
          "font": {
           "color": "#2a3f5f"
          },
          "geo": {
           "bgcolor": "white",
           "lakecolor": "white",
           "landcolor": "#E5ECF6",
           "showlakes": true,
           "showland": true,
           "subunitcolor": "white"
          },
          "hoverlabel": {
           "align": "left"
          },
          "hovermode": "closest",
          "mapbox": {
           "style": "light"
          },
          "paper_bgcolor": "white",
          "plot_bgcolor": "#E5ECF6",
          "polar": {
           "angularaxis": {
            "gridcolor": "white",
            "linecolor": "white",
            "ticks": ""
           },
           "bgcolor": "#E5ECF6",
           "radialaxis": {
            "gridcolor": "white",
            "linecolor": "white",
            "ticks": ""
           }
          },
          "scene": {
           "xaxis": {
            "backgroundcolor": "#E5ECF6",
            "gridcolor": "white",
            "gridwidth": 2,
            "linecolor": "white",
            "showbackground": true,
            "ticks": "",
            "zerolinecolor": "white"
           },
           "yaxis": {
            "backgroundcolor": "#E5ECF6",
            "gridcolor": "white",
            "gridwidth": 2,
            "linecolor": "white",
            "showbackground": true,
            "ticks": "",
            "zerolinecolor": "white"
           },
           "zaxis": {
            "backgroundcolor": "#E5ECF6",
            "gridcolor": "white",
            "gridwidth": 2,
            "linecolor": "white",
            "showbackground": true,
            "ticks": "",
            "zerolinecolor": "white"
           }
          },
          "shapedefaults": {
           "line": {
            "color": "#2a3f5f"
           }
          },
          "ternary": {
           "aaxis": {
            "gridcolor": "white",
            "linecolor": "white",
            "ticks": ""
           },
           "baxis": {
            "gridcolor": "white",
            "linecolor": "white",
            "ticks": ""
           },
           "bgcolor": "#E5ECF6",
           "caxis": {
            "gridcolor": "white",
            "linecolor": "white",
            "ticks": ""
           }
          },
          "title": {
           "x": 0.05
          },
          "xaxis": {
           "automargin": true,
           "gridcolor": "white",
           "linecolor": "white",
           "ticks": "",
           "title": {
            "standoff": 15
           },
           "zerolinecolor": "white",
           "zerolinewidth": 2
          },
          "yaxis": {
           "automargin": true,
           "gridcolor": "white",
           "linecolor": "white",
           "ticks": "",
           "title": {
            "standoff": 15
           },
           "zerolinecolor": "white",
           "zerolinewidth": 2
          }
         }
        },
        "title": {
         "text": "Average count of customers per location and hour of day",
         "x": 0.1
        },
        "xaxis": {
         "anchor": "y",
         "domain": [
          0,
          1
         ],
         "matches": "x5",
         "showgrid": false,
         "showticklabels": false
        },
        "xaxis2": {
         "anchor": "y2",
         "domain": [
          0,
          1
         ],
         "matches": "x5",
         "showgrid": false,
         "showticklabels": false
        },
        "xaxis3": {
         "anchor": "y3",
         "domain": [
          0,
          1
         ],
         "matches": "x5",
         "showgrid": false,
         "showticklabels": false
        },
        "xaxis4": {
         "anchor": "y4",
         "domain": [
          0,
          1
         ],
         "matches": "x5",
         "showgrid": false,
         "showticklabels": false
        },
        "xaxis5": {
         "anchor": "y5",
         "domain": [
          0,
          1
         ],
         "showgrid": false
        },
        "yaxis": {
         "anchor": "x",
         "domain": [
          0.88,
          1
         ],
         "range": [
          0,
          342.8
         ],
         "showgrid": false
        },
        "yaxis2": {
         "anchor": "x2",
         "domain": [
          0.66,
          0.78
         ],
         "range": [
          0,
          342.8
         ],
         "showgrid": false
        },
        "yaxis3": {
         "anchor": "x3",
         "domain": [
          0.44,
          0.56
         ],
         "range": [
          0,
          342.8
         ],
         "showgrid": false
        },
        "yaxis4": {
         "anchor": "x4",
         "domain": [
          0.22,
          0.33999999999999997
         ],
         "range": [
          0,
          342.8
         ],
         "showgrid": false
        },
        "yaxis5": {
         "anchor": "x5",
         "domain": [
          0,
          0.12
         ],
         "range": [
          0,
          342.8
         ],
         "showgrid": false
        }
       }
      }
     },
     "metadata": {},
     "output_type": "display_data"
    }
   ],
   "source": [
    "layout = dict(\n",
    "    paper_bgcolor=\"rgba(0,0,0,0)\",\n",
    "    plot_bgcolor=\"rgba(0,0,0,0)\",\n",
    "    title_x=0.1,\n",
    "    font=dict(color=\"white\"),\n",
    ")\n",
    "\n",
    "fig = make_subplots(\n",
    "    rows=len(locations),\n",
    "    cols=1,\n",
    "    subplot_titles=locations,\n",
    "    shared_xaxes=True,\n",
    "    shared_yaxes=True,\n",
    ")\n",
    "\n",
    "for i, location in enumerate(locations):\n",
    "    df = week_overview_per_section_per_hour.query(f\" location == '{location}' \")\n",
    "    fig.add_trace(\n",
    "        go.Bar(\n",
    "            x=df.hour_of_day.values,\n",
    "            y=df.customers.values,\n",
    "            name=location,\n",
    "            text=df.customers.values,\n",
    "            textposition=\"auto\",\n",
    "        ),\n",
    "        row=i + 1,\n",
    "        col=1,\n",
    "    )\n",
    "\n",
    "title = \"Average count of customers per location and hour of day\"\n",
    "\n",
    "y_max = week_overview_per_section_per_hour.customers.max()\n",
    "\n",
    "\n",
    "fig.update_layout(\n",
    "    **layout,\n",
    "    title_text=title,\n",
    "    height=1000,\n",
    "    showlegend=False,\n",
    "    # 1\n",
    "    xaxis=dict(showgrid=False),\n",
    "    yaxis=dict(showgrid=False, range=[0, y_max]),\n",
    "    # 2\n",
    "    xaxis2=dict(showgrid=False),\n",
    "    yaxis2=dict(showgrid=False, range=[0, y_max]),\n",
    "    # 3\n",
    "    xaxis3=dict(showgrid=False),\n",
    "    yaxis3=dict(showgrid=False, range=[0, y_max]),\n",
    "    # 4\n",
    "    xaxis4=dict(showgrid=False),\n",
    "    yaxis4=dict(showgrid=False, range=[0, y_max]),\n",
    "    # 5\n",
    "    xaxis5=dict(showgrid=False),\n",
    "    yaxis5=dict(showgrid=False, range=[0, y_max]),\n",
    ")\n",
    "\n",
    "fig.show()\n"
   ]
  },
  {
   "attachments": {},
   "cell_type": "markdown",
   "metadata": {},
   "source": [
    "## Get the Transition Matrix from the data per hour, as well as the probabilities to enter the supermarket in different locations:\n",
    "- we need a transition matrix for each hour of the day\n",
    "- we need the probabilities of customers entering the supermarket through the different locations, per hour of day"
   ]
  },
  {
   "attachments": {},
   "cell_type": "markdown",
   "metadata": {},
   "source": [
    "### Transition Matrix per hour of the day:\n"
   ]
  },
  {
   "cell_type": "code",
   "execution_count": 376,
   "metadata": {},
   "outputs": [],
   "source": [
    "tm_hour = {}\n",
    "\n",
    "for hour in df_all_days.hour_of_day.unique():\n",
    "    supermarket_entry_rows = []\n",
    "    if hour > 6:\n",
    "        df_hour = df_all_days.query(f\" hour_of_day == {hour} \")\n",
    "\n",
    "        # get the Transition matrix per hour of day:\n",
    "        tm = pd.crosstab(\n",
    "            df_hour[\"from_location\"],\n",
    "            df_hour[\"location\"],\n",
    "            normalize=\"index\",  # -- guarantees that each row's probas add up to 1\n",
    "        ).to_dict(orient=\"index\")\n",
    "        \n",
    "        # get the probabilities to enter the supermarket through different locations:\n",
    "        # get 1st recorded state of customer during hour in question:\n",
    "        customer_initial_state_in_hour = df_hour.groupby('customer_no').nth(0)\n",
    "        \n",
    "        # filter for the entries whose \"From_location\" is \"checkout\":\n",
    "        supermarket_entries_in_hour = customer_initial_state_in_hour.query(\" from_location == 'checkout' \").location.value_counts(normalize=True).to_dict()\n",
    "        \n",
    "        #ensure that the entry to checkout is not allowed:\n",
    "        supermarket_entries_in_hour['checkout'] = 0.0\n",
    "\n",
    "        # get the average # of customers per minute for each hour -- to be used as the lambda of the\n",
    "        tm_hour[str(hour)] = {\"tm\": tm, \"entry_probas\": supermarket_entries_in_hour}\n"
   ]
  },
  {
   "attachments": {},
   "cell_type": "markdown",
   "metadata": {},
   "source": [
    "## save the data as a json file:"
   ]
  },
  {
   "cell_type": "code",
   "execution_count": 377,
   "metadata": {},
   "outputs": [],
   "source": [
    "with open('../data/tm_and_lambda_per_hour.json', 'w') as fp:\n",
    "    json.dump(tm_hour, fp)"
   ]
  }
 ],
 "metadata": {
  "kernelspec": {
   "display_name": "base",
   "language": "python",
   "name": "python3"
  },
  "language_info": {
   "codemirror_mode": {
    "name": "ipython",
    "version": 3
   },
   "file_extension": ".py",
   "mimetype": "text/x-python",
   "name": "python",
   "nbconvert_exporter": "python",
   "pygments_lexer": "ipython3",
   "version": "3.10.9"
  },
  "orig_nbformat": 4
 },
 "nbformat": 4,
 "nbformat_minor": 2
}
