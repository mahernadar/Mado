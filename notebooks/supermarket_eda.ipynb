{
 "cells": [
  {
   "cell_type": "code",
   "execution_count": 51,
   "metadata": {},
   "outputs": [],
   "source": [
    "import matplotlib.pyplot as plt\n",
    "import plotly.express as px\n",
    "\n",
    "\n",
    "from rich import inspect\n",
    "from tqdm.notebook import tqdm\n",
    "\n",
    "import datetime\n",
    "import numpy as np\n",
    "import pandas as pd\n",
    "\n",
    "pd.set_option(\"display.max_columns\", None)\n",
    "pd.set_option(\"display.max_rows\", None)\n"
   ]
  },
  {
   "cell_type": "code",
   "execution_count": 52,
   "metadata": {},
   "outputs": [
    {
     "data": {
      "text/html": [
       "<div>\n",
       "<style scoped>\n",
       "    .dataframe tbody tr th:only-of-type {\n",
       "        vertical-align: middle;\n",
       "    }\n",
       "\n",
       "    .dataframe tbody tr th {\n",
       "        vertical-align: top;\n",
       "    }\n",
       "\n",
       "    .dataframe thead th {\n",
       "        text-align: right;\n",
       "    }\n",
       "</style>\n",
       "<table border=\"1\" class=\"dataframe\">\n",
       "  <thead>\n",
       "    <tr style=\"text-align: right;\">\n",
       "      <th></th>\n",
       "      <th>customer_no</th>\n",
       "      <th>location</th>\n",
       "      <th>dow</th>\n",
       "      <th>time</th>\n",
       "    </tr>\n",
       "    <tr>\n",
       "      <th>timestamp</th>\n",
       "      <th></th>\n",
       "      <th></th>\n",
       "      <th></th>\n",
       "      <th></th>\n",
       "    </tr>\n",
       "  </thead>\n",
       "  <tbody>\n",
       "    <tr>\n",
       "      <th>2019-09-03 16:14:00</th>\n",
       "      <td>802_tuesday</td>\n",
       "      <td>checkout</td>\n",
       "      <td>tuesday</td>\n",
       "      <td>16:14:00</td>\n",
       "    </tr>\n",
       "    <tr>\n",
       "      <th>2019-09-06 15:53:00</th>\n",
       "      <td>846_friday</td>\n",
       "      <td>spices</td>\n",
       "      <td>friday</td>\n",
       "      <td>15:53:00</td>\n",
       "    </tr>\n",
       "    <tr>\n",
       "      <th>2019-09-05 11:24:00</th>\n",
       "      <td>473_thursday</td>\n",
       "      <td>checkout</td>\n",
       "      <td>thursday</td>\n",
       "      <td>11:24:00</td>\n",
       "    </tr>\n",
       "    <tr>\n",
       "      <th>2019-09-04 19:17:00</th>\n",
       "      <td>1275_wednesday</td>\n",
       "      <td>spices</td>\n",
       "      <td>wednesday</td>\n",
       "      <td>19:17:00</td>\n",
       "    </tr>\n",
       "    <tr>\n",
       "      <th>2019-09-06 15:43:00</th>\n",
       "      <td>819_friday</td>\n",
       "      <td>spices</td>\n",
       "      <td>friday</td>\n",
       "      <td>15:43:00</td>\n",
       "    </tr>\n",
       "  </tbody>\n",
       "</table>\n",
       "</div>"
      ],
      "text/plain": [
       "                        customer_no  location        dow      time\n",
       "timestamp                                                         \n",
       "2019-09-03 16:14:00     802_tuesday  checkout    tuesday  16:14:00\n",
       "2019-09-06 15:53:00      846_friday    spices     friday  15:53:00\n",
       "2019-09-05 11:24:00    473_thursday  checkout   thursday  11:24:00\n",
       "2019-09-04 19:17:00  1275_wednesday    spices  wednesday  19:17:00\n",
       "2019-09-06 15:43:00      819_friday    spices     friday  15:43:00"
      ]
     },
     "execution_count": 52,
     "metadata": {},
     "output_type": "execute_result"
    }
   ],
   "source": [
    "days_of_week = [\"monday\", \"tuesday\", \"wednesday\", \"thursday\", \"friday\"]\n",
    "\n",
    "dfs = []\n",
    "\n",
    "for day in days_of_week:\n",
    "    df = pd.read_csv(\n",
    "        f\"../data/{day}.csv\",\n",
    "        parse_dates=[\"timestamp\"],\n",
    "        delimiter=\";\",\n",
    "    )\n",
    "    df[\"dow\"] = day\n",
    "    df[\"time\"] = df.timestamp.dt.time\n",
    "    df[\"customer_no\"] = df[\"customer_no\"].astype(str) + \"_\" + df[\"dow\"]\n",
    "    dfs.append(df)\n",
    "\n",
    "df_all_days = pd.concat(dfs, ignore_index=True)\n",
    "\n",
    "df_all_days = df_all_days.set_index(\"timestamp\")\n",
    "\n",
    "df_all_days.sample(5)\n"
   ]
  },
  {
   "cell_type": "code",
   "execution_count": 53,
   "metadata": {},
   "outputs": [
    {
     "data": {
      "text/plain": [
       "(datetime.time(7, 0), datetime.time(21, 50))"
      ]
     },
     "execution_count": 53,
     "metadata": {},
     "output_type": "execute_result"
    }
   ],
   "source": [
    "df_all_days.time.min(), df_all_days.time.max()\n"
   ]
  },
  {
   "attachments": {},
   "cell_type": "markdown",
   "metadata": {},
   "source": [
    "## Adding the period of day column, for analyzing data in an aggregate manner:"
   ]
  },
  {
   "cell_type": "code",
   "execution_count": 54,
   "metadata": {},
   "outputs": [],
   "source": [
    "def get_day_period(time):\n",
    "    period = None\n",
    "    if 7 <= time.hour < 12:\n",
    "        period = \"morning\"\n",
    "    elif 12 <= time.hour < 16:\n",
    "        period = \"afternoon\"\n",
    "    elif 16 <= time.hour:\n",
    "        period = \"evening\"\n",
    "    return period\n"
   ]
  },
  {
   "cell_type": "code",
   "execution_count": 55,
   "metadata": {},
   "outputs": [],
   "source": [
    "df_all_days[\"day_period\"] = df_all_days.time.apply(get_day_period)\n"
   ]
  },
  {
   "attachments": {},
   "cell_type": "markdown",
   "metadata": {},
   "source": [
    "## Resampling the Df to have a sample every minute:\n",
    "Method used to fill unrecorded timestamps is \"forward fill\""
   ]
  },
  {
   "cell_type": "code",
   "execution_count": 56,
   "metadata": {},
   "outputs": [
    {
     "data": {
      "text/html": [
       "<div>\n",
       "<style scoped>\n",
       "    .dataframe tbody tr th:only-of-type {\n",
       "        vertical-align: middle;\n",
       "    }\n",
       "\n",
       "    .dataframe tbody tr th {\n",
       "        vertical-align: top;\n",
       "    }\n",
       "\n",
       "    .dataframe thead th {\n",
       "        text-align: right;\n",
       "    }\n",
       "</style>\n",
       "<table border=\"1\" class=\"dataframe\">\n",
       "  <thead>\n",
       "    <tr style=\"text-align: right;\">\n",
       "      <th></th>\n",
       "      <th>customer_no</th>\n",
       "      <th>timestamp</th>\n",
       "      <th>location</th>\n",
       "      <th>dow</th>\n",
       "      <th>time</th>\n",
       "      <th>day_period</th>\n",
       "    </tr>\n",
       "  </thead>\n",
       "  <tbody>\n",
       "    <tr>\n",
       "      <th>39223</th>\n",
       "      <td>638_wednesday</td>\n",
       "      <td>2019-09-04 13:11:00</td>\n",
       "      <td>dairy</td>\n",
       "      <td>wednesday</td>\n",
       "      <td>13:10:00</td>\n",
       "      <td>afternoon</td>\n",
       "    </tr>\n",
       "    <tr>\n",
       "      <th>35005</th>\n",
       "      <td>528_tuesday</td>\n",
       "      <td>2019-09-03 13:19:00</td>\n",
       "      <td>fruit</td>\n",
       "      <td>tuesday</td>\n",
       "      <td>13:19:00</td>\n",
       "      <td>afternoon</td>\n",
       "    </tr>\n",
       "    <tr>\n",
       "      <th>46964</th>\n",
       "      <td>825_tuesday</td>\n",
       "      <td>2019-09-03 16:26:00</td>\n",
       "      <td>dairy</td>\n",
       "      <td>tuesday</td>\n",
       "      <td>16:22:00</td>\n",
       "      <td>evening</td>\n",
       "    </tr>\n",
       "    <tr>\n",
       "      <th>46453</th>\n",
       "      <td>811_monday</td>\n",
       "      <td>2019-09-02 15:53:00</td>\n",
       "      <td>spices</td>\n",
       "      <td>monday</td>\n",
       "      <td>15:53:00</td>\n",
       "      <td>afternoon</td>\n",
       "    </tr>\n",
       "    <tr>\n",
       "      <th>3001</th>\n",
       "      <td>1071_friday</td>\n",
       "      <td>2019-09-06 18:06:00</td>\n",
       "      <td>fruit</td>\n",
       "      <td>friday</td>\n",
       "      <td>18:05:00</td>\n",
       "      <td>evening</td>\n",
       "    </tr>\n",
       "  </tbody>\n",
       "</table>\n",
       "</div>"
      ],
      "text/plain": [
       "         customer_no           timestamp location        dow      time   \n",
       "39223  638_wednesday 2019-09-04 13:11:00    dairy  wednesday  13:10:00  \\\n",
       "35005    528_tuesday 2019-09-03 13:19:00    fruit    tuesday  13:19:00   \n",
       "46964    825_tuesday 2019-09-03 16:26:00    dairy    tuesday  16:22:00   \n",
       "46453     811_monday 2019-09-02 15:53:00   spices     monday  15:53:00   \n",
       "3001     1071_friday 2019-09-06 18:06:00    fruit     friday  18:05:00   \n",
       "\n",
       "      day_period  \n",
       "39223  afternoon  \n",
       "35005  afternoon  \n",
       "46964    evening  \n",
       "46453  afternoon  \n",
       "3001     evening  "
      ]
     },
     "execution_count": 56,
     "metadata": {},
     "output_type": "execute_result"
    }
   ],
   "source": [
    "df_all_days = (\n",
    "    df_all_days.groupby(\"customer_no\")\n",
    "    .resample(\"1Min\")\n",
    "    .ffill()\n",
    "    .drop(columns=\"customer_no\")\n",
    "    .reset_index()\n",
    "    .sort_values(by=[\"customer_no\", \"timestamp\"])\n",
    ")\n",
    "df_all_days.sample(5)\n"
   ]
  },
  {
   "attachments": {},
   "cell_type": "markdown",
   "metadata": {},
   "source": [
    "## Adding a \"checkout\" entry of some customers whose end registered location was not checkout:"
   ]
  },
  {
   "cell_type": "code",
   "execution_count": 57,
   "metadata": {},
   "outputs": [
    {
     "data": {
      "application/vnd.jupyter.widget-view+json": {
       "model_id": "66810322fb3b455cbef50dcbdf051cf8",
       "version_major": 2,
       "version_minor": 0
      },
      "text/plain": [
       "  0%|          | 0/7445 [00:00<?, ?it/s]"
      ]
     },
     "metadata": {},
     "output_type": "display_data"
    }
   ],
   "source": [
    "missing_checkout_entries = (\n",
    "    []\n",
    ")  # -- to be filled with the dicts of missing entries:\n",
    "for entries, grp_data in tqdm(df_all_days.groupby(\"customer_no\")):\n",
    "    if \"checkout\" not in grp_data.location.unique():\n",
    "        # extract last row as a dict:\n",
    "        checkout_entries = grp_data.iloc[-1].to_dict()\n",
    "\n",
    "        # the checkout timestamp is the last timestamp + 1 minute:\n",
    "        checkout_timestamp = grp_data.iloc[-1].timestamp + datetime.timedelta(\n",
    "            minutes=1\n",
    "        )\n",
    "        checkout_entries[\"timestamp\"] = checkout_timestamp\n",
    "\n",
    "        # update the location accordingly:\n",
    "        checkout_entries[\"location\"] = \"checkout\"\n",
    "        missing_checkout_entries.append(checkout_entries)\n"
   ]
  },
  {
   "cell_type": "code",
   "execution_count": 58,
   "metadata": {},
   "outputs": [],
   "source": [
    "# convert entries into df --> add it to the initial df --> re-sort the values per customer, per timestamp:\n",
    "missing_entries_df = pd.DataFrame(missing_checkout_entries)\n",
    "\n",
    "df_all_days = pd.concat([df_all_days, missing_entries_df], axis=0)\n",
    "\n",
    "df_all_days = df_all_days.sort_values(by=[\"customer_no\", \"timestamp\"])\n"
   ]
  },
  {
   "attachments": {},
   "cell_type": "markdown",
   "metadata": {},
   "source": [
    "## Adding a column for the previous timestamp's location:"
   ]
  },
  {
   "cell_type": "code",
   "execution_count": 59,
   "metadata": {},
   "outputs": [
    {
     "data": {
      "text/html": [
       "<div>\n",
       "<style scoped>\n",
       "    .dataframe tbody tr th:only-of-type {\n",
       "        vertical-align: middle;\n",
       "    }\n",
       "\n",
       "    .dataframe tbody tr th {\n",
       "        vertical-align: top;\n",
       "    }\n",
       "\n",
       "    .dataframe thead th {\n",
       "        text-align: right;\n",
       "    }\n",
       "</style>\n",
       "<table border=\"1\" class=\"dataframe\">\n",
       "  <thead>\n",
       "    <tr style=\"text-align: right;\">\n",
       "      <th></th>\n",
       "      <th>customer_no</th>\n",
       "      <th>timestamp</th>\n",
       "      <th>to_location</th>\n",
       "      <th>dow</th>\n",
       "      <th>time</th>\n",
       "      <th>day_period</th>\n",
       "      <th>from_location</th>\n",
       "    </tr>\n",
       "  </thead>\n",
       "  <tbody>\n",
       "    <tr>\n",
       "      <th>0</th>\n",
       "      <td>1000_friday</td>\n",
       "      <td>2019-09-06 17:19:00</td>\n",
       "      <td>fruit</td>\n",
       "      <td>friday</td>\n",
       "      <td>17:19:00</td>\n",
       "      <td>evening</td>\n",
       "      <td>entrance</td>\n",
       "    </tr>\n",
       "    <tr>\n",
       "      <th>1</th>\n",
       "      <td>1000_friday</td>\n",
       "      <td>2019-09-06 17:20:00</td>\n",
       "      <td>checkout</td>\n",
       "      <td>friday</td>\n",
       "      <td>17:20:00</td>\n",
       "      <td>evening</td>\n",
       "      <td>fruit</td>\n",
       "    </tr>\n",
       "    <tr>\n",
       "      <th>2</th>\n",
       "      <td>1000_monday</td>\n",
       "      <td>2019-09-02 17:44:00</td>\n",
       "      <td>dairy</td>\n",
       "      <td>monday</td>\n",
       "      <td>17:44:00</td>\n",
       "      <td>evening</td>\n",
       "      <td>entrance</td>\n",
       "    </tr>\n",
       "    <tr>\n",
       "      <th>3</th>\n",
       "      <td>1000_monday</td>\n",
       "      <td>2019-09-02 17:45:00</td>\n",
       "      <td>dairy</td>\n",
       "      <td>monday</td>\n",
       "      <td>17:44:00</td>\n",
       "      <td>evening</td>\n",
       "      <td>dairy</td>\n",
       "    </tr>\n",
       "    <tr>\n",
       "      <th>4</th>\n",
       "      <td>1000_monday</td>\n",
       "      <td>2019-09-02 17:46:00</td>\n",
       "      <td>dairy</td>\n",
       "      <td>monday</td>\n",
       "      <td>17:44:00</td>\n",
       "      <td>evening</td>\n",
       "      <td>dairy</td>\n",
       "    </tr>\n",
       "  </tbody>\n",
       "</table>\n",
       "</div>"
      ],
      "text/plain": [
       "   customer_no           timestamp to_location     dow      time day_period   \n",
       "0  1000_friday 2019-09-06 17:19:00       fruit  friday  17:19:00    evening  \\\n",
       "1  1000_friday 2019-09-06 17:20:00    checkout  friday  17:20:00    evening   \n",
       "2  1000_monday 2019-09-02 17:44:00       dairy  monday  17:44:00    evening   \n",
       "3  1000_monday 2019-09-02 17:45:00       dairy  monday  17:44:00    evening   \n",
       "4  1000_monday 2019-09-02 17:46:00       dairy  monday  17:44:00    evening   \n",
       "\n",
       "  from_location  \n",
       "0      entrance  \n",
       "1         fruit  \n",
       "2      entrance  \n",
       "3         dairy  \n",
       "4         dairy  "
      ]
     },
     "execution_count": 59,
     "metadata": {},
     "output_type": "execute_result"
    }
   ],
   "source": [
    "df_all_days[\"from_location\"] = (\n",
    "    df_all_days[\"location\"]\n",
    "    .shift(1)\n",
    "    .fillna(\"entrance\")\n",
    "    .replace(\"checkout\", \"entrance\")\n",
    ")\n",
    "df_all_days = df_all_days.rename(columns={\"location\": \"to_location\"})\n",
    "df_all_days.head()\n"
   ]
  },
  {
   "cell_type": "code",
   "execution_count": 61,
   "metadata": {},
   "outputs": [],
   "source": [
    "path = \"../data/cleaned_data.csv\"\n",
    "df_all_days.to_csv(path, index=False)"
   ]
  },
  {
   "cell_type": "code",
   "execution_count": null,
   "metadata": {},
   "outputs": [],
   "source": []
  }
 ],
 "metadata": {
  "kernelspec": {
   "display_name": "base",
   "language": "python",
   "name": "python3"
  },
  "language_info": {
   "codemirror_mode": {
    "name": "ipython",
    "version": 3
   },
   "file_extension": ".py",
   "mimetype": "text/x-python",
   "name": "python",
   "nbconvert_exporter": "python",
   "pygments_lexer": "ipython3",
   "version": "3.10.9"
  },
  "orig_nbformat": 4
 },
 "nbformat": 4,
 "nbformat_minor": 2
}
