{
 "cells": [
  {
   "cell_type": "code",
   "execution_count": null,
   "metadata": {},
   "outputs": [],
   "source": [
    "import matplotlib.pyplot as plt\n",
    "import plotly.express as px\n",
    "import plotly.graph_objects as go\n",
    "from plotly.subplots import make_subplots\n",
    "\n",
    "from rich import inspect\n",
    "from tqdm.notebook import tqdm\n",
    "\n",
    "import datetime\n",
    "import numpy as np\n",
    "import pandas as pd\n",
    "\n",
    "pd.set_option(\"display.max_columns\", None)\n",
    "pd.set_option(\"display.max_rows\", None)\n"
   ]
  },
  {
   "attachments": {},
   "cell_type": "markdown",
   "metadata": {},
   "source": [
    "## Load Data:"
   ]
  },
  {
   "cell_type": "code",
   "execution_count": null,
   "metadata": {},
   "outputs": [],
   "source": [
    "days_of_week = [\"monday\", \"tuesday\", \"wednesday\", \"thursday\", \"friday\"]\n",
    "\n",
    "dfs = []\n",
    "\n",
    "for day in days_of_week:\n",
    "    df = pd.read_csv(\n",
    "        f\"../data/{day}.csv\",\n",
    "        parse_dates=[\"timestamp\"],\n",
    "        delimiter=\";\",\n",
    "    )\n",
    "    df[\"dow\"] = day\n",
    "    df[\"time\"] = df.timestamp.dt.time\n",
    "    df[\"customer_no\"] = df[\"customer_no\"].astype(str) + \"_\" + df[\"dow\"]\n",
    "    dfs.append(df)\n",
    "\n",
    "df_all_days = pd.concat(dfs, ignore_index=True)\n",
    "\n",
    "df_all_days = df_all_days.set_index(\"timestamp\")\n",
    "\n",
    "df_all_days.sample(5)\n"
   ]
  },
  {
   "cell_type": "code",
   "execution_count": null,
   "metadata": {},
   "outputs": [],
   "source": [
    "df_all_days.time.min(), df_all_days.time.max()\n"
   ]
  },
  {
   "attachments": {},
   "cell_type": "markdown",
   "metadata": {},
   "source": [
    "## Adding the period of day column, for analyzing data in an aggregate manner:\n",
    "- morning: up to 12 pm\n",
    "- afternoon: 12 to 4 pm \n",
    "- evening: after 4 pm "
   ]
  },
  {
   "cell_type": "code",
   "execution_count": null,
   "metadata": {},
   "outputs": [],
   "source": [
    "def get_day_period(time):\n",
    "    period = None\n",
    "    if 7 <= time.hour < 12:\n",
    "        period = \"morning\"\n",
    "    elif 12 <= time.hour < 16:\n",
    "        period = \"afternoon\"\n",
    "    elif 16 <= time.hour:\n",
    "        period = \"evening\"\n",
    "    return period\n"
   ]
  },
  {
   "cell_type": "code",
   "execution_count": null,
   "metadata": {},
   "outputs": [],
   "source": [
    "df_all_days[\"day_period\"] = df_all_days.time.apply(get_day_period)\n"
   ]
  },
  {
   "attachments": {},
   "cell_type": "markdown",
   "metadata": {},
   "source": [
    "## Resampling the Df to have a sample every minute:\n",
    "Method used to fill unrecorded timestamps is \"forward fill\""
   ]
  },
  {
   "cell_type": "code",
   "execution_count": null,
   "metadata": {},
   "outputs": [],
   "source": [
    "df_all_days = (\n",
    "    df_all_days.groupby(\"customer_no\")\n",
    "    .resample(\"1Min\")\n",
    "    .ffill()\n",
    "    .drop(columns=\"customer_no\")\n",
    "    .reset_index()\n",
    "    .sort_values(by=[\"customer_no\", \"timestamp\"])\n",
    ")\n",
    "df_all_days.sample(5)\n"
   ]
  },
  {
   "attachments": {},
   "cell_type": "markdown",
   "metadata": {},
   "source": [
    "## Adding a \"checkout\" entry of some customers whose end registered location was not checkout:"
   ]
  },
  {
   "cell_type": "code",
   "execution_count": null,
   "metadata": {},
   "outputs": [],
   "source": [
    "# TODO: add an initial entry per customer for the \"entrance\" location.\n",
    "\n",
    "\n",
    "missing_checkout_entries = (\n",
    "    []\n",
    ")  # -- to be filled with the dicts of missing entries:\n",
    "for entries, grp_data in tqdm(df_all_days.groupby(\"customer_no\")):\n",
    "    if \"checkout\" not in grp_data.location.unique():\n",
    "        # extract last row as a dict:\n",
    "        checkout_entries = grp_data.iloc[-1].to_dict()\n",
    "\n",
    "        # the checkout timestamp is the last timestamp + 1 minute:\n",
    "        checkout_timestamp = grp_data.iloc[-1].timestamp + datetime.timedelta(\n",
    "            minutes=1\n",
    "        )\n",
    "        checkout_entries[\"timestamp\"] = checkout_timestamp\n",
    "\n",
    "        # update the location accordingly:\n",
    "        checkout_entries[\"location\"] = \"checkout\"\n",
    "        missing_checkout_entries.append(checkout_entries)\n"
   ]
  },
  {
   "cell_type": "code",
   "execution_count": null,
   "metadata": {},
   "outputs": [],
   "source": [
    "# convert entries into df --> add it to the initial df --> re-sort the values per customer, per timestamp:\n",
    "missing_entries_df = pd.DataFrame(missing_checkout_entries)\n",
    "\n",
    "df_all_days = pd.concat([df_all_days, missing_entries_df], axis=0)\n",
    "\n",
    "df_all_days = df_all_days.sort_values(by=[\"customer_no\", \"timestamp\"])\n"
   ]
  },
  {
   "attachments": {},
   "cell_type": "markdown",
   "metadata": {},
   "source": [
    "## Adding a column for the previous timestamp's location:"
   ]
  },
  {
   "cell_type": "code",
   "execution_count": null,
   "metadata": {},
   "outputs": [],
   "source": [
    "df_all_days[\"from_location\"] = (\n",
    "    df_all_days[\"location\"]\n",
    "    .shift(1)\n",
    "    .fillna(\"entrance\")\n",
    "    .replace(\"checkout\", \"entrance\")\n",
    ")\n",
    "df_all_days = df_all_days.rename(columns={\"location\": \"to_location\"})\n",
    "df_all_days.head()\n"
   ]
  },
  {
   "cell_type": "code",
   "execution_count": null,
   "metadata": {},
   "outputs": [],
   "source": [
    "path = \"../data/cleaned_data.csv\"\n",
    "df_all_days.to_csv(path, index=False)\n"
   ]
  },
  {
   "attachments": {},
   "cell_type": "markdown",
   "metadata": {},
   "source": [
    "## EDA - General view of the number of customers per section "
   ]
  },
  {
   "attachments": {},
   "cell_type": "markdown",
   "metadata": {},
   "source": [
    "### Entire Week overview (all data),  per period: "
   ]
  },
  {
   "cell_type": "code",
   "execution_count": null,
   "metadata": {},
   "outputs": [],
   "source": [
    "week_overview_per_section_per_period = (\n",
    "    df_all_days.groupby([\"to_location\", \"day_period\"])\n",
    "    .timestamp.count()\n",
    "    .reset_index()\n",
    "    .rename(columns={\"timestamp\": \"customers\"})\n",
    ")\n",
    "week_overview_per_section_per_period\n"
   ]
  },
  {
   "cell_type": "code",
   "execution_count": null,
   "metadata": {},
   "outputs": [],
   "source": [
    "week_overview_per_section_per_period.query(\n",
    "    \" day_period == 'afternoon' \"\n",
    ").customers.values\n"
   ]
  },
  {
   "cell_type": "code",
   "execution_count": null,
   "metadata": {},
   "outputs": [],
   "source": [
    "layout = dict(\n",
    "    xaxis=dict(showgrid=False),\n",
    "    yaxis=dict(showgrid=False),\n",
    "    paper_bgcolor=\"rgba(0,0,0,0)\",\n",
    "    plot_bgcolor=\"rgba(0,0,0,0)\",\n",
    "    title_x=0.5,\n",
    "    font=dict(color=\"white\"),\n",
    ")\n",
    "\n",
    "title = \"Count of customers per location and period of day\"\n",
    "fig = go.Figure()\n",
    "\n",
    "locations = week_overview_per_section_per_period.to_location.unique().tolist()\n",
    "day_periods = [\"morning\", \"afternoon\", \"evening\"]\n",
    "\n",
    "for period in day_periods:\n",
    "    fig.add_trace(\n",
    "        go.Bar(\n",
    "            x=locations,\n",
    "            y=week_overview_per_section_per_period.query(\n",
    "                f\" day_period == '{period}' \"\n",
    "            ).customers.values,\n",
    "            name=period,\n",
    "        )\n",
    "    )\n",
    "\n",
    "# Here we modify the tickangle of the xaxis, resulting in rotated labels.\n",
    "fig.update_layout(\n",
    "    **layout, barmode=\"group\", xaxis_tickangle=-45, title_text=title\n",
    ")\n",
    "fig.show()\n"
   ]
  },
  {
   "attachments": {},
   "cell_type": "markdown",
   "metadata": {},
   "source": [
    "### Entire Week overview (all data), per hour of the day: "
   ]
  },
  {
   "cell_type": "code",
   "execution_count": null,
   "metadata": {},
   "outputs": [],
   "source": [
    "df_all_days[\"hour_of_day\"] = df_all_days.timestamp.dt.hour\n",
    "\n",
    "week_overview_per_section_per_hour = (\n",
    "    df_all_days.groupby([\"to_location\", \"hour_of_day\"])\n",
    "    .timestamp.count()\n",
    "    .reset_index()\n",
    "    .rename(columns={\"timestamp\": \"customers\"})\n",
    ")\n",
    "week_overview_per_section_per_hour.head()\n"
   ]
  },
  {
   "cell_type": "code",
   "execution_count": null,
   "metadata": {},
   "outputs": [],
   "source": [
    "df_all_days.sample(5)\n"
   ]
  },
  {
   "cell_type": "code",
   "execution_count": null,
   "metadata": {},
   "outputs": [],
   "source": [
    "layout = dict(\n",
    "    paper_bgcolor=\"rgba(0,0,0,0)\",\n",
    "    plot_bgcolor=\"rgba(0,0,0,0)\",\n",
    "    title_x=0.1,\n",
    "    font=dict(color=\"white\"),\n",
    ")\n",
    "\n",
    "fig = make_subplots(\n",
    "    rows=len(locations),\n",
    "    cols=1,\n",
    "    subplot_titles=locations,\n",
    "    shared_xaxes=True,\n",
    "    shared_yaxes=True,\n",
    ")\n",
    "\n",
    "for i, location in enumerate(locations):\n",
    "    df = week_overview_per_section_per_hour.query(\n",
    "        f\" to_location == '{location}' \"\n",
    "    )\n",
    "    fig.add_trace(\n",
    "        go.Bar(\n",
    "            x=df.hour_of_day.values,\n",
    "            y=df.customers.values,\n",
    "            name=location,\n",
    "            text=df.customers.values,\n",
    "            textposition=\"auto\",\n",
    "        ),\n",
    "        row=i + 1,\n",
    "        col=1,\n",
    "    )\n",
    "\n",
    "title = \"Count of customers per location and hour of day\"\n",
    "\n",
    "y_max = week_overview_per_section_per_hour.customers.max()\n",
    "\n",
    "\n",
    "fig.update_layout(\n",
    "    **layout,\n",
    "    title_text=title,\n",
    "    height=1000,\n",
    "    showlegend=False,\n",
    "    # 1\n",
    "    xaxis=dict(showgrid=False),\n",
    "    yaxis=dict(showgrid=False, range=[0, y_max]),\n",
    "    # 2\n",
    "    xaxis2=dict(showgrid=False),\n",
    "    yaxis2=dict(showgrid=False, range=[0, y_max]),\n",
    "    # 3\n",
    "    xaxis3=dict(showgrid=False),\n",
    "    yaxis3=dict(showgrid=False, range=[0, y_max]),\n",
    "    # 4\n",
    "    xaxis4=dict(showgrid=False),\n",
    "    yaxis4=dict(showgrid=False, range=[0, y_max]),\n",
    "    # 5\n",
    "    xaxis5=dict(showgrid=False),\n",
    "    yaxis5=dict(showgrid=False, range=[0, y_max]),\n",
    ")\n",
    "\n",
    "fig.show()\n"
   ]
  },
  {
   "cell_type": "code",
   "execution_count": null,
   "metadata": {},
   "outputs": [],
   "source": []
  }
 ],
 "metadata": {
  "kernelspec": {
   "display_name": "base",
   "language": "python",
   "name": "python3"
  },
  "language_info": {
   "codemirror_mode": {
    "name": "ipython",
    "version": 3
   },
   "file_extension": ".py",
   "mimetype": "text/x-python",
   "name": "python",
   "nbconvert_exporter": "python",
   "pygments_lexer": "ipython3",
   "version": "3.10.9"
  },
  "orig_nbformat": 4
 },
 "nbformat": 4,
 "nbformat_minor": 2
}
